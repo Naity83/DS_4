{
  "nbformat": 4,
  "nbformat_minor": 0,
  "metadata": {
    "colab": {
      "provenance": []
    },
    "kernelspec": {
      "name": "python3",
      "display_name": "Python 3"
    },
    "language_info": {
      "name": "python"
    }
  },
  "cells": [
    {
      "cell_type": "code",
      "execution_count": null,
      "metadata": {
        "id": "kw7tBNvsSqfw"
      },
      "outputs": [],
      "source": []
    },
    {
      "cell_type": "markdown",
      "source": [
        "# Лінійна регресія: перенавчання і регуляризація"
      ],
      "metadata": {
        "id": "qZEOYg-ZS4FK"
      }
    },
    {
      "cell_type": "markdown",
      "source": [],
      "metadata": {
        "id": "rDXqD-EGS83A"
      }
    },
    {
      "cell_type": "code",
      "source": [
        "import pandas as pd\n",
        "import numpy as np\n",
        "from matplotlib import pyplot as plt\n",
        "%matplotlib inline\n",
        "import seaborn as sns"
      ],
      "metadata": {
        "id": "bzsQw8cfTG_K"
      },
      "execution_count": 6,
      "outputs": []
    },
    {
      "cell_type": "markdown",
      "source": [
        "# Завдання 1"
      ],
      "metadata": {
        "id": "jvwLghIMTQxh"
      }
    },
    {
      "cell_type": "markdown",
      "source": [
        "Завантажте датасет за допомогою функції pandas.read_csv у змінну df. Виведіть перші 5 рядків, щоб переконатися в коректному зчитуванні даних:"
      ],
      "metadata": {
        "id": "vUzDs5tLTSzt"
      }
    },
    {
      "cell_type": "code",
      "source": [
        "df = pd.read_csv('bikes_rent.csv')\n",
        "df.head()"
      ],
      "metadata": {
        "colab": {
          "base_uri": "https://localhost:8080/",
          "height": 226
        },
        "id": "cMEgCYKTTXNy",
        "outputId": "5ae5bd23-e89d-49a4-ce3e-a96b68759813"
      },
      "execution_count": 2,
      "outputs": [
        {
          "output_type": "execute_result",
          "data": {
            "text/plain": [
              "   season  yr  mnth  holiday  weekday  workingday  weathersit       temp  \\\n",
              "0       1   0     1        0        6           0           2  14.110847   \n",
              "1       1   0     1        0        0           0           2  14.902598   \n",
              "2       1   0     1        0        1           1           1   8.050924   \n",
              "3       1   0     1        0        2           1           1   8.200000   \n",
              "4       1   0     1        0        3           1           1   9.305237   \n",
              "\n",
              "      atemp      hum  windspeed(mph)  windspeed(ms)   cnt  \n",
              "0  18.18125  80.5833       10.749882       4.805490   985  \n",
              "1  17.68695  69.6087       16.652113       7.443949   801  \n",
              "2   9.47025  43.7273       16.636703       7.437060  1349  \n",
              "3  10.60610  59.0435       10.739832       4.800998  1562  \n",
              "4  11.46350  43.6957       12.522300       5.597810  1600  "
            ],
            "text/html": [
              "\n",
              "  <div id=\"df-a516881a-43bf-4e39-956e-b494111b08ac\" class=\"colab-df-container\">\n",
              "    <div>\n",
              "<style scoped>\n",
              "    .dataframe tbody tr th:only-of-type {\n",
              "        vertical-align: middle;\n",
              "    }\n",
              "\n",
              "    .dataframe tbody tr th {\n",
              "        vertical-align: top;\n",
              "    }\n",
              "\n",
              "    .dataframe thead th {\n",
              "        text-align: right;\n",
              "    }\n",
              "</style>\n",
              "<table border=\"1\" class=\"dataframe\">\n",
              "  <thead>\n",
              "    <tr style=\"text-align: right;\">\n",
              "      <th></th>\n",
              "      <th>season</th>\n",
              "      <th>yr</th>\n",
              "      <th>mnth</th>\n",
              "      <th>holiday</th>\n",
              "      <th>weekday</th>\n",
              "      <th>workingday</th>\n",
              "      <th>weathersit</th>\n",
              "      <th>temp</th>\n",
              "      <th>atemp</th>\n",
              "      <th>hum</th>\n",
              "      <th>windspeed(mph)</th>\n",
              "      <th>windspeed(ms)</th>\n",
              "      <th>cnt</th>\n",
              "    </tr>\n",
              "  </thead>\n",
              "  <tbody>\n",
              "    <tr>\n",
              "      <th>0</th>\n",
              "      <td>1</td>\n",
              "      <td>0</td>\n",
              "      <td>1</td>\n",
              "      <td>0</td>\n",
              "      <td>6</td>\n",
              "      <td>0</td>\n",
              "      <td>2</td>\n",
              "      <td>14.110847</td>\n",
              "      <td>18.18125</td>\n",
              "      <td>80.5833</td>\n",
              "      <td>10.749882</td>\n",
              "      <td>4.805490</td>\n",
              "      <td>985</td>\n",
              "    </tr>\n",
              "    <tr>\n",
              "      <th>1</th>\n",
              "      <td>1</td>\n",
              "      <td>0</td>\n",
              "      <td>1</td>\n",
              "      <td>0</td>\n",
              "      <td>0</td>\n",
              "      <td>0</td>\n",
              "      <td>2</td>\n",
              "      <td>14.902598</td>\n",
              "      <td>17.68695</td>\n",
              "      <td>69.6087</td>\n",
              "      <td>16.652113</td>\n",
              "      <td>7.443949</td>\n",
              "      <td>801</td>\n",
              "    </tr>\n",
              "    <tr>\n",
              "      <th>2</th>\n",
              "      <td>1</td>\n",
              "      <td>0</td>\n",
              "      <td>1</td>\n",
              "      <td>0</td>\n",
              "      <td>1</td>\n",
              "      <td>1</td>\n",
              "      <td>1</td>\n",
              "      <td>8.050924</td>\n",
              "      <td>9.47025</td>\n",
              "      <td>43.7273</td>\n",
              "      <td>16.636703</td>\n",
              "      <td>7.437060</td>\n",
              "      <td>1349</td>\n",
              "    </tr>\n",
              "    <tr>\n",
              "      <th>3</th>\n",
              "      <td>1</td>\n",
              "      <td>0</td>\n",
              "      <td>1</td>\n",
              "      <td>0</td>\n",
              "      <td>2</td>\n",
              "      <td>1</td>\n",
              "      <td>1</td>\n",
              "      <td>8.200000</td>\n",
              "      <td>10.60610</td>\n",
              "      <td>59.0435</td>\n",
              "      <td>10.739832</td>\n",
              "      <td>4.800998</td>\n",
              "      <td>1562</td>\n",
              "    </tr>\n",
              "    <tr>\n",
              "      <th>4</th>\n",
              "      <td>1</td>\n",
              "      <td>0</td>\n",
              "      <td>1</td>\n",
              "      <td>0</td>\n",
              "      <td>3</td>\n",
              "      <td>1</td>\n",
              "      <td>1</td>\n",
              "      <td>9.305237</td>\n",
              "      <td>11.46350</td>\n",
              "      <td>43.6957</td>\n",
              "      <td>12.522300</td>\n",
              "      <td>5.597810</td>\n",
              "      <td>1600</td>\n",
              "    </tr>\n",
              "  </tbody>\n",
              "</table>\n",
              "</div>\n",
              "    <div class=\"colab-df-buttons\">\n",
              "\n",
              "  <div class=\"colab-df-container\">\n",
              "    <button class=\"colab-df-convert\" onclick=\"convertToInteractive('df-a516881a-43bf-4e39-956e-b494111b08ac')\"\n",
              "            title=\"Convert this dataframe to an interactive table.\"\n",
              "            style=\"display:none;\">\n",
              "\n",
              "  <svg xmlns=\"http://www.w3.org/2000/svg\" height=\"24px\" viewBox=\"0 -960 960 960\">\n",
              "    <path d=\"M120-120v-720h720v720H120Zm60-500h600v-160H180v160Zm220 220h160v-160H400v160Zm0 220h160v-160H400v160ZM180-400h160v-160H180v160Zm440 0h160v-160H620v160ZM180-180h160v-160H180v160Zm440 0h160v-160H620v160Z\"/>\n",
              "  </svg>\n",
              "    </button>\n",
              "\n",
              "  <style>\n",
              "    .colab-df-container {\n",
              "      display:flex;\n",
              "      gap: 12px;\n",
              "    }\n",
              "\n",
              "    .colab-df-convert {\n",
              "      background-color: #E8F0FE;\n",
              "      border: none;\n",
              "      border-radius: 50%;\n",
              "      cursor: pointer;\n",
              "      display: none;\n",
              "      fill: #1967D2;\n",
              "      height: 32px;\n",
              "      padding: 0 0 0 0;\n",
              "      width: 32px;\n",
              "    }\n",
              "\n",
              "    .colab-df-convert:hover {\n",
              "      background-color: #E2EBFA;\n",
              "      box-shadow: 0px 1px 2px rgba(60, 64, 67, 0.3), 0px 1px 3px 1px rgba(60, 64, 67, 0.15);\n",
              "      fill: #174EA6;\n",
              "    }\n",
              "\n",
              "    .colab-df-buttons div {\n",
              "      margin-bottom: 4px;\n",
              "    }\n",
              "\n",
              "    [theme=dark] .colab-df-convert {\n",
              "      background-color: #3B4455;\n",
              "      fill: #D2E3FC;\n",
              "    }\n",
              "\n",
              "    [theme=dark] .colab-df-convert:hover {\n",
              "      background-color: #434B5C;\n",
              "      box-shadow: 0px 1px 3px 1px rgba(0, 0, 0, 0.15);\n",
              "      filter: drop-shadow(0px 1px 2px rgba(0, 0, 0, 0.3));\n",
              "      fill: #FFFFFF;\n",
              "    }\n",
              "  </style>\n",
              "\n",
              "    <script>\n",
              "      const buttonEl =\n",
              "        document.querySelector('#df-a516881a-43bf-4e39-956e-b494111b08ac button.colab-df-convert');\n",
              "      buttonEl.style.display =\n",
              "        google.colab.kernel.accessAllowed ? 'block' : 'none';\n",
              "\n",
              "      async function convertToInteractive(key) {\n",
              "        const element = document.querySelector('#df-a516881a-43bf-4e39-956e-b494111b08ac');\n",
              "        const dataTable =\n",
              "          await google.colab.kernel.invokeFunction('convertToInteractive',\n",
              "                                                    [key], {});\n",
              "        if (!dataTable) return;\n",
              "\n",
              "        const docLinkHtml = 'Like what you see? Visit the ' +\n",
              "          '<a target=\"_blank\" href=https://colab.research.google.com/notebooks/data_table.ipynb>data table notebook</a>'\n",
              "          + ' to learn more about interactive tables.';\n",
              "        element.innerHTML = '';\n",
              "        dataTable['output_type'] = 'display_data';\n",
              "        await google.colab.output.renderOutput(dataTable, element);\n",
              "        const docLink = document.createElement('div');\n",
              "        docLink.innerHTML = docLinkHtml;\n",
              "        element.appendChild(docLink);\n",
              "      }\n",
              "    </script>\n",
              "  </div>\n",
              "\n",
              "\n",
              "<div id=\"df-3767db36-0deb-40b3-acb1-d12d776a28db\">\n",
              "  <button class=\"colab-df-quickchart\" onclick=\"quickchart('df-3767db36-0deb-40b3-acb1-d12d776a28db')\"\n",
              "            title=\"Suggest charts\"\n",
              "            style=\"display:none;\">\n",
              "\n",
              "<svg xmlns=\"http://www.w3.org/2000/svg\" height=\"24px\"viewBox=\"0 0 24 24\"\n",
              "     width=\"24px\">\n",
              "    <g>\n",
              "        <path d=\"M19 3H5c-1.1 0-2 .9-2 2v14c0 1.1.9 2 2 2h14c1.1 0 2-.9 2-2V5c0-1.1-.9-2-2-2zM9 17H7v-7h2v7zm4 0h-2V7h2v10zm4 0h-2v-4h2v4z\"/>\n",
              "    </g>\n",
              "</svg>\n",
              "  </button>\n",
              "\n",
              "<style>\n",
              "  .colab-df-quickchart {\n",
              "      --bg-color: #E8F0FE;\n",
              "      --fill-color: #1967D2;\n",
              "      --hover-bg-color: #E2EBFA;\n",
              "      --hover-fill-color: #174EA6;\n",
              "      --disabled-fill-color: #AAA;\n",
              "      --disabled-bg-color: #DDD;\n",
              "  }\n",
              "\n",
              "  [theme=dark] .colab-df-quickchart {\n",
              "      --bg-color: #3B4455;\n",
              "      --fill-color: #D2E3FC;\n",
              "      --hover-bg-color: #434B5C;\n",
              "      --hover-fill-color: #FFFFFF;\n",
              "      --disabled-bg-color: #3B4455;\n",
              "      --disabled-fill-color: #666;\n",
              "  }\n",
              "\n",
              "  .colab-df-quickchart {\n",
              "    background-color: var(--bg-color);\n",
              "    border: none;\n",
              "    border-radius: 50%;\n",
              "    cursor: pointer;\n",
              "    display: none;\n",
              "    fill: var(--fill-color);\n",
              "    height: 32px;\n",
              "    padding: 0;\n",
              "    width: 32px;\n",
              "  }\n",
              "\n",
              "  .colab-df-quickchart:hover {\n",
              "    background-color: var(--hover-bg-color);\n",
              "    box-shadow: 0 1px 2px rgba(60, 64, 67, 0.3), 0 1px 3px 1px rgba(60, 64, 67, 0.15);\n",
              "    fill: var(--button-hover-fill-color);\n",
              "  }\n",
              "\n",
              "  .colab-df-quickchart-complete:disabled,\n",
              "  .colab-df-quickchart-complete:disabled:hover {\n",
              "    background-color: var(--disabled-bg-color);\n",
              "    fill: var(--disabled-fill-color);\n",
              "    box-shadow: none;\n",
              "  }\n",
              "\n",
              "  .colab-df-spinner {\n",
              "    border: 2px solid var(--fill-color);\n",
              "    border-color: transparent;\n",
              "    border-bottom-color: var(--fill-color);\n",
              "    animation:\n",
              "      spin 1s steps(1) infinite;\n",
              "  }\n",
              "\n",
              "  @keyframes spin {\n",
              "    0% {\n",
              "      border-color: transparent;\n",
              "      border-bottom-color: var(--fill-color);\n",
              "      border-left-color: var(--fill-color);\n",
              "    }\n",
              "    20% {\n",
              "      border-color: transparent;\n",
              "      border-left-color: var(--fill-color);\n",
              "      border-top-color: var(--fill-color);\n",
              "    }\n",
              "    30% {\n",
              "      border-color: transparent;\n",
              "      border-left-color: var(--fill-color);\n",
              "      border-top-color: var(--fill-color);\n",
              "      border-right-color: var(--fill-color);\n",
              "    }\n",
              "    40% {\n",
              "      border-color: transparent;\n",
              "      border-right-color: var(--fill-color);\n",
              "      border-top-color: var(--fill-color);\n",
              "    }\n",
              "    60% {\n",
              "      border-color: transparent;\n",
              "      border-right-color: var(--fill-color);\n",
              "    }\n",
              "    80% {\n",
              "      border-color: transparent;\n",
              "      border-right-color: var(--fill-color);\n",
              "      border-bottom-color: var(--fill-color);\n",
              "    }\n",
              "    90% {\n",
              "      border-color: transparent;\n",
              "      border-bottom-color: var(--fill-color);\n",
              "    }\n",
              "  }\n",
              "</style>\n",
              "\n",
              "  <script>\n",
              "    async function quickchart(key) {\n",
              "      const quickchartButtonEl =\n",
              "        document.querySelector('#' + key + ' button');\n",
              "      quickchartButtonEl.disabled = true;  // To prevent multiple clicks.\n",
              "      quickchartButtonEl.classList.add('colab-df-spinner');\n",
              "      try {\n",
              "        const charts = await google.colab.kernel.invokeFunction(\n",
              "            'suggestCharts', [key], {});\n",
              "      } catch (error) {\n",
              "        console.error('Error during call to suggestCharts:', error);\n",
              "      }\n",
              "      quickchartButtonEl.classList.remove('colab-df-spinner');\n",
              "      quickchartButtonEl.classList.add('colab-df-quickchart-complete');\n",
              "    }\n",
              "    (() => {\n",
              "      let quickchartButtonEl =\n",
              "        document.querySelector('#df-3767db36-0deb-40b3-acb1-d12d776a28db button');\n",
              "      quickchartButtonEl.style.display =\n",
              "        google.colab.kernel.accessAllowed ? 'block' : 'none';\n",
              "    })();\n",
              "  </script>\n",
              "</div>\n",
              "    </div>\n",
              "  </div>\n"
            ],
            "application/vnd.google.colaboratory.intrinsic+json": {
              "type": "dataframe",
              "variable_name": "df",
              "summary": "{\n  \"name\": \"df\",\n  \"rows\": 731,\n  \"fields\": [\n    {\n      \"column\": \"season\",\n      \"properties\": {\n        \"dtype\": \"number\",\n        \"std\": 1,\n        \"min\": 1,\n        \"max\": 4,\n        \"num_unique_values\": 4,\n        \"samples\": [\n          2,\n          4,\n          1\n        ],\n        \"semantic_type\": \"\",\n        \"description\": \"\"\n      }\n    },\n    {\n      \"column\": \"yr\",\n      \"properties\": {\n        \"dtype\": \"number\",\n        \"std\": 0,\n        \"min\": 0,\n        \"max\": 1,\n        \"num_unique_values\": 2,\n        \"samples\": [\n          1,\n          0\n        ],\n        \"semantic_type\": \"\",\n        \"description\": \"\"\n      }\n    },\n    {\n      \"column\": \"mnth\",\n      \"properties\": {\n        \"dtype\": \"number\",\n        \"std\": 3,\n        \"min\": 1,\n        \"max\": 12,\n        \"num_unique_values\": 12,\n        \"samples\": [\n          11,\n          10\n        ],\n        \"semantic_type\": \"\",\n        \"description\": \"\"\n      }\n    },\n    {\n      \"column\": \"holiday\",\n      \"properties\": {\n        \"dtype\": \"number\",\n        \"std\": 0,\n        \"min\": 0,\n        \"max\": 1,\n        \"num_unique_values\": 2,\n        \"samples\": [\n          1,\n          0\n        ],\n        \"semantic_type\": \"\",\n        \"description\": \"\"\n      }\n    },\n    {\n      \"column\": \"weekday\",\n      \"properties\": {\n        \"dtype\": \"number\",\n        \"std\": 2,\n        \"min\": 0,\n        \"max\": 6,\n        \"num_unique_values\": 7,\n        \"samples\": [\n          6,\n          0\n        ],\n        \"semantic_type\": \"\",\n        \"description\": \"\"\n      }\n    },\n    {\n      \"column\": \"workingday\",\n      \"properties\": {\n        \"dtype\": \"number\",\n        \"std\": 0,\n        \"min\": 0,\n        \"max\": 1,\n        \"num_unique_values\": 2,\n        \"samples\": [\n          1,\n          0\n        ],\n        \"semantic_type\": \"\",\n        \"description\": \"\"\n      }\n    },\n    {\n      \"column\": \"weathersit\",\n      \"properties\": {\n        \"dtype\": \"number\",\n        \"std\": 0,\n        \"min\": 1,\n        \"max\": 3,\n        \"num_unique_values\": 3,\n        \"samples\": [\n          2,\n          1\n        ],\n        \"semantic_type\": \"\",\n        \"description\": \"\"\n      }\n    },\n    {\n      \"column\": \"temp\",\n      \"properties\": {\n        \"dtype\": \"number\",\n        \"std\": 7.5050908405710395,\n        \"min\": 2.4243464,\n        \"max\": 35.328347,\n        \"num_unique_values\": 499,\n        \"samples\": [\n          22.310847,\n          17.647835\n        ],\n        \"semantic_type\": \"\",\n        \"description\": \"\"\n      }\n    },\n    {\n      \"column\": \"atemp\",\n      \"properties\": {\n        \"dtype\": \"number\",\n        \"std\": 8.148058919315565,\n        \"min\": 3.95348,\n        \"max\": 42.0448,\n        \"num_unique_values\": 690,\n        \"samples\": [\n          23.16875,\n          29.9877\n        ],\n        \"semantic_type\": \"\",\n        \"description\": \"\"\n      }\n    },\n    {\n      \"column\": \"hum\",\n      \"properties\": {\n        \"dtype\": \"number\",\n        \"std\": 14.242909513835396,\n        \"min\": 0.0,\n        \"max\": 97.25,\n        \"num_unique_values\": 595,\n        \"samples\": [\n          70.7083,\n          71.8333\n        ],\n        \"semantic_type\": \"\",\n        \"description\": \"\"\n      }\n    },\n    {\n      \"column\": \"windspeed(mph)\",\n      \"properties\": {\n        \"dtype\": \"number\",\n        \"std\": 5.192357335671851,\n        \"min\": 1.5002439,\n        \"max\": 34.000021,\n        \"num_unique_values\": 650,\n        \"samples\": [\n          6.749714,\n          9.333636\n        ],\n        \"semantic_type\": \"\",\n        \"description\": \"\"\n      }\n    },\n    {\n      \"column\": \"windspeed(ms)\",\n      \"properties\": {\n        \"dtype\": \"number\",\n        \"std\": 2.3211253176900244,\n        \"min\": 0.670649932946,\n        \"max\": 15.1989365221,\n        \"num_unique_values\": 650,\n        \"samples\": [\n          3.01730621368,\n          4.17238980778\n        ],\n        \"semantic_type\": \"\",\n        \"description\": \"\"\n      }\n    },\n    {\n      \"column\": \"cnt\",\n      \"properties\": {\n        \"dtype\": \"number\",\n        \"std\": 1937,\n        \"min\": 22,\n        \"max\": 8714,\n        \"num_unique_values\": 696,\n        \"samples\": [\n          5170,\n          1607\n        ],\n        \"semantic_type\": \"\",\n        \"description\": \"\"\n      }\n    }\n  ]\n}"
            }
          },
          "metadata": {},
          "execution_count": 2
        }
      ]
    },
    {
      "cell_type": "markdown",
      "source": [
        "Побудуйте графіки залежностей атрибутів від кількості поїздок. Іншими словами, вам потрібно побудувати 12 графіків. На кожному має бути зображена залежність чергового атрибута від змінної cnt."
      ],
      "metadata": {
        "id": "UQB6HasMXqwQ"
      }
    },
    {
      "cell_type": "code",
      "source": [
        "df_features = df.columns[:-1]\n",
        "df_target = df.columns[-1]\n"
      ],
      "metadata": {
        "id": "cco2_TK8Xrr0"
      },
      "execution_count": 5,
      "outputs": []
    },
    {
      "cell_type": "code",
      "source": [
        "plt.figure(figsize=(20, 15))\n",
        "\n",
        "\n",
        "# Візуалізація даних\n",
        "for i, column in enumerate(df_features):\n",
        "    plt.subplot(4, 3, i + 1)  # Створення підграфіка у сітці 4x3\n",
        "    plt.bar(df[column], df[df_target])\n",
        "    plt.title(f'{df_target} from {column}')\n",
        "    plt.xlabel(column)\n",
        "    plt.ylabel(df_target)\n",
        "\n",
        "\n",
        "# Коректування розмітки\n",
        "plt.tight_layout()\n",
        "plt.show()\n"
      ],
      "metadata": {
        "colab": {
          "base_uri": "https://localhost:8080/",
          "height": 698
        },
        "id": "M2KAe9oHb0-r",
        "outputId": "091e754b-1abf-47b6-9f0b-f9fcca8675e3"
      },
      "execution_count": 17,
      "outputs": [
        {
          "output_type": "display_data",
          "data": {
            "text/plain": [
              "<Figure size 2000x1500 with 12 Axes>"
            ],
            "image/png": "[encoded data removed]"
          },
          "metadata": {}
        }
      ]
    },
    {
      "cell_type": "markdown",
      "source": [
        "Запитання:\n",
        "\n",
        "\n",
        "*   Яким є характер залежності кількості прокатів від місяця?\n",
        "Відповідь: Ця залежність нагадує квадратичну залежність\n",
        "*   Вкажіть одну або дві ознаки, від яких кількість прокатів скоріше за все залежить лінійно.\n",
        "Відповідь: temp, atemp\n",
        "\n"
      ],
      "metadata": {
        "id": "3eKiI0dxpS0_"
      }
    },
    {
      "cell_type": "markdown",
      "source": [
        "# Завдання 2"
      ],
      "metadata": {
        "id": "ekAEYEqfqytC"
      }
    },
    {
      "cell_type": "markdown",
      "source": [
        "Давайте більш строго оцінимо рівень лінійної залежності між ознаками та цільовою змінною. Гарною мірою лінійної залежності між двома векторами є кореляція Пірсона. Нам уже доводилося мати з нею справу раніше. Для її обчислення в pandas можна використовувати методи датафрейму: corr і corrwith."
      ],
      "metadata": {
        "id": "VW2njCQNq59v"
      }
    },
    {
      "cell_type": "markdown",
      "source": [
        "Порахуйте кореляції всіх ознак, окрім останньої, з останньою за допомогою методу corrwith."
      ],
      "metadata": {
        "id": "R8ILkWp2q-Bh"
      }
    },
    {
      "cell_type": "code",
      "source": [
        "df[df_features].corrwith(df[df_target])"
      ],
      "metadata": {
        "colab": {
          "base_uri": "https://localhost:8080/"
        },
        "id": "NA4warNxrBlb",
        "outputId": "04b6dffd-acfa-4a9f-b685-3309a7c48186"
      },
      "execution_count": 18,
      "outputs": [
        {
          "output_type": "execute_result",
          "data": {
            "text/plain": [
              "season            0.406100\n",
              "yr                0.566710\n",
              "mnth              0.279977\n",
              "holiday          -0.068348\n",
              "weekday           0.067443\n",
              "workingday        0.061156\n",
              "weathersit       -0.297391\n",
              "temp              0.627494\n",
              "atemp             0.631066\n",
              "hum              -0.100659\n",
              "windspeed(mph)   -0.234545\n",
              "windspeed(ms)    -0.234545\n",
              "dtype: float64"
            ]
          },
          "metadata": {},
          "execution_count": 18
        }
      ]
    },
    {
      "cell_type": "markdown",
      "source": [
        "# Завдання 3"
      ],
      "metadata": {
        "id": "RJ_DlIkIxF93"
      }
    },
    {
      "cell_type": "markdown",
      "source": [
        "Порахуйте попарні кореляції між ознаками temp, atemp, hum, windspeed(mph), windspeed(ms) і cnt за допомогою методу corr:"
      ],
      "metadata": {
        "id": "SmapQUoexJFW"
      }
    },
    {
      "cell_type": "code",
      "source": [
        "selected_features = ['temp', 'atemp', 'hum', 'windspeed(mph)', 'windspeed(ms)', 'cnt']\n",
        "correlations = df[selected_features].corr()\n",
        "correlations"
      ],
      "metadata": {
        "colab": {
          "base_uri": "https://localhost:8080/",
          "height": 238
        },
        "id": "LprOzqzRxNBu",
        "outputId": "65439bd2-a1a0-4c8f-86a2-6cbeaa16dbb4"
      },
      "execution_count": 19,
      "outputs": [
        {
          "output_type": "execute_result",
          "data": {
            "text/plain": [
              "                    temp     atemp       hum  windspeed(mph)  windspeed(ms)  \\\n",
              "temp            1.000000  0.991702  0.126963       -0.157944      -0.157944   \n",
              "atemp           0.991702  1.000000  0.139988       -0.183643      -0.183643   \n",
              "hum             0.126963  0.139988  1.000000       -0.248489      -0.248489   \n",
              "windspeed(mph) -0.157944 -0.183643 -0.248489        1.000000       1.000000   \n",
              "windspeed(ms)  -0.157944 -0.183643 -0.248489        1.000000       1.000000   \n",
              "cnt             0.627494  0.631066 -0.100659       -0.234545      -0.234545   \n",
              "\n",
              "                     cnt  \n",
              "temp            0.627494  \n",
              "atemp           0.631066  \n",
              "hum            -0.100659  \n",
              "windspeed(mph) -0.234545  \n",
              "windspeed(ms)  -0.234545  \n",
              "cnt             1.000000  "
            ],
            "text/html": [
              "\n",
              "  <div id=\"df-0dfd0cbb-5ad6-4143-85ce-8d29029278c4\" class=\"colab-df-container\">\n",
              "    <div>\n",
              "<style scoped>\n",
              "    .dataframe tbody tr th:only-of-type {\n",
              "        vertical-align: middle;\n",
              "    }\n",
              "\n",
              "    .dataframe tbody tr th {\n",
              "        vertical-align: top;\n",
              "    }\n",
              "\n",
              "    .dataframe thead th {\n",
              "        text-align: right;\n",
              "    }\n",
              "</style>\n",
              "<table border=\"1\" class=\"dataframe\">\n",
              "  <thead>\n",
              "    <tr style=\"text-align: right;\">\n",
              "      <th></th>\n",
              "      <th>temp</th>\n",
              "      <th>atemp</th>\n",
              "      <th>hum</th>\n",
              "      <th>windspeed(mph)</th>\n",
              "      <th>windspeed(ms)</th>\n",
              "      <th>cnt</th>\n",
              "    </tr>\n",
              "  </thead>\n",
              "  <tbody>\n",
              "    <tr>\n",
              "      <th>temp</th>\n",
              "      <td>1.000000</td>\n",
              "      <td>0.991702</td>\n",
              "      <td>0.126963</td>\n",
              "      <td>-0.157944</td>\n",
              "      <td>-0.157944</td>\n",
              "      <td>0.627494</td>\n",
              "    </tr>\n",
              "    <tr>\n",
              "      <th>atemp</th>\n",
              "      <td>0.991702</td>\n",
              "      <td>1.000000</td>\n",
              "      <td>0.139988</td>\n",
              "      <td>-0.183643</td>\n",
              "      <td>-0.183643</td>\n",
              "      <td>0.631066</td>\n",
              "    </tr>\n",
              "    <tr>\n",
              "      <th>hum</th>\n",
              "      <td>0.126963</td>\n",
              "      <td>0.139988</td>\n",
              "      <td>1.000000</td>\n",
              "      <td>-0.248489</td>\n",
              "      <td>-0.248489</td>\n",
              "      <td>-0.100659</td>\n",
              "    </tr>\n",
              "    <tr>\n",
              "      <th>windspeed(mph)</th>\n",
              "      <td>-0.157944</td>\n",
              "      <td>-0.183643</td>\n",
              "      <td>-0.248489</td>\n",
              "      <td>1.000000</td>\n",
              "      <td>1.000000</td>\n",
              "      <td>-0.234545</td>\n",
              "    </tr>\n",
              "    <tr>\n",
              "      <th>windspeed(ms)</th>\n",
              "      <td>-0.157944</td>\n",
              "      <td>-0.183643</td>\n",
              "      <td>-0.248489</td>\n",
              "      <td>1.000000</td>\n",
              "      <td>1.000000</td>\n",
              "      <td>-0.234545</td>\n",
              "    </tr>\n",
              "    <tr>\n",
              "      <th>cnt</th>\n",
              "      <td>0.627494</td>\n",
              "      <td>0.631066</td>\n",
              "      <td>-0.100659</td>\n",
              "      <td>-0.234545</td>\n",
              "      <td>-0.234545</td>\n",
              "      <td>1.000000</td>\n",
              "    </tr>\n",
              "  </tbody>\n",
              "</table>\n",
              "</div>\n",
              "    <div class=\"colab-df-buttons\">\n",
              "\n",
              "  <div class=\"colab-df-container\">\n",
              "    <button class=\"colab-df-convert\" onclick=\"convertToInteractive('df-0dfd0cbb-5ad6-4143-85ce-8d29029278c4')\"\n",
              "            title=\"Convert this dataframe to an interactive table.\"\n",
              "            style=\"display:none;\">\n",
              "\n",
              "  <svg xmlns=\"http://www.w3.org/2000/svg\" height=\"24px\" viewBox=\"0 -960 960 960\">\n",
              "    <path d=\"M120-120v-720h720v720H120Zm60-500h600v-160H180v160Zm220 220h160v-160H400v160Zm0 220h160v-160H400v160ZM180-400h160v-160H180v160Zm440 0h160v-160H620v160ZM180-180h160v-160H180v160Zm440 0h160v-160H620v160Z\"/>\n",
              "  </svg>\n",
              "    </button>\n",
              "\n",
              "  <style>\n",
              "    .colab-df-container {\n",
              "      display:flex;\n",
              "      gap: 12px;\n",
              "    }\n",
              "\n",
              "    .colab-df-convert {\n",
              "      background-color: #E8F0FE;\n",
              "      border: none;\n",
              "      border-radius: 50%;\n",
              "      cursor: pointer;\n",
              "      display: none;\n",
              "      fill: #1967D2;\n",
              "      height: 32px;\n",
              "      padding: 0 0 0 0;\n",
              "      width: 32px;\n",
              "    }\n",
              "\n",
              "    .colab-df-convert:hover {\n",
              "      background-color: #E2EBFA;\n",
              "      box-shadow: 0px 1px 2px rgba(60, 64, 67, 0.3), 0px 1px 3px 1px rgba(60, 64, 67, 0.15);\n",
              "      fill: #174EA6;\n",
              "    }\n",
              "\n",
              "    .colab-df-buttons div {\n",
              "      margin-bottom: 4px;\n",
              "    }\n",
              "\n",
              "    [theme=dark] .colab-df-convert {\n",
              "      background-color: #3B4455;\n",
              "      fill: #D2E3FC;\n",
              "    }\n",
              "\n",
              "    [theme=dark] .colab-df-convert:hover {\n",
              "      background-color: #434B5C;\n",
              "      box-shadow: 0px 1px 3px 1px rgba(0, 0, 0, 0.15);\n",
              "      filter: drop-shadow(0px 1px 2px rgba(0, 0, 0, 0.3));\n",
              "      fill: #FFFFFF;\n",
              "    }\n",
              "  </style>\n",
              "\n",
              "    <script>\n",
              "      const buttonEl =\n",
              "        document.querySelector('#df-0dfd0cbb-5ad6-4143-85ce-8d29029278c4 button.colab-df-convert');\n",
              "      buttonEl.style.display =\n",
              "        google.colab.kernel.accessAllowed ? 'block' : 'none';\n",
              "\n",
              "      async function convertToInteractive(key) {\n",
              "        const element = document.querySelector('#df-0dfd0cbb-5ad6-4143-85ce-8d29029278c4');\n",
              "        const dataTable =\n",
              "          await google.colab.kernel.invokeFunction('convertToInteractive',\n",
              "                                                    [key], {});\n",
              "        if (!dataTable) return;\n",
              "\n",
              "        const docLinkHtml = 'Like what you see? Visit the ' +\n",
              "          '<a target=\"_blank\" href=https://colab.research.google.com/notebooks/data_table.ipynb>data table notebook</a>'\n",
              "          + ' to learn more about interactive tables.';\n",
              "        element.innerHTML = '';\n",
              "        dataTable['output_type'] = 'display_data';\n",
              "        await google.colab.output.renderOutput(dataTable, element);\n",
              "        const docLink = document.createElement('div');\n",
              "        docLink.innerHTML = docLinkHtml;\n",
              "        element.appendChild(docLink);\n",
              "      }\n",
              "    </script>\n",
              "  </div>\n",
              "\n",
              "\n",
              "<div id=\"df-04f7a09d-ba8d-4434-a662-5c0800be4d29\">\n",
              "  <button class=\"colab-df-quickchart\" onclick=\"quickchart('df-04f7a09d-ba8d-4434-a662-5c0800be4d29')\"\n",
              "            title=\"Suggest charts\"\n",
              "            style=\"display:none;\">\n",
              "\n",
              "<svg xmlns=\"http://www.w3.org/2000/svg\" height=\"24px\"viewBox=\"0 0 24 24\"\n",
              "     width=\"24px\">\n",
              "    <g>\n",
              "        <path d=\"M19 3H5c-1.1 0-2 .9-2 2v14c0 1.1.9 2 2 2h14c1.1 0 2-.9 2-2V5c0-1.1-.9-2-2-2zM9 17H7v-7h2v7zm4 0h-2V7h2v10zm4 0h-2v-4h2v4z\"/>\n",
              "    </g>\n",
              "</svg>\n",
              "  </button>\n",
              "\n",
              "<style>\n",
              "  .colab-df-quickchart {\n",
              "      --bg-color: #E8F0FE;\n",
              "      --fill-color: #1967D2;\n",
              "      --hover-bg-color: #E2EBFA;\n",
              "      --hover-fill-color: #174EA6;\n",
              "      --disabled-fill-color: #AAA;\n",
              "      --disabled-bg-color: #DDD;\n",
              "  }\n",
              "\n",
              "  [theme=dark] .colab-df-quickchart {\n",
              "      --bg-color: #3B4455;\n",
              "      --fill-color: #D2E3FC;\n",
              "      --hover-bg-color: #434B5C;\n",
              "      --hover-fill-color: #FFFFFF;\n",
              "      --disabled-bg-color: #3B4455;\n",
              "      --disabled-fill-color: #666;\n",
              "  }\n",
              "\n",
              "  .colab-df-quickchart {\n",
              "    background-color: var(--bg-color);\n",
              "    border: none;\n",
              "    border-radius: 50%;\n",
              "    cursor: pointer;\n",
              "    display: none;\n",
              "    fill: var(--fill-color);\n",
              "    height: 32px;\n",
              "    padding: 0;\n",
              "    width: 32px;\n",
              "  }\n",
              "\n",
              "  .colab-df-quickchart:hover {\n",
              "    background-color: var(--hover-bg-color);\n",
              "    box-shadow: 0 1px 2px rgba(60, 64, 67, 0.3), 0 1px 3px 1px rgba(60, 64, 67, 0.15);\n",
              "    fill: var(--button-hover-fill-color);\n",
              "  }\n",
              "\n",
              "  .colab-df-quickchart-complete:disabled,\n",
              "  .colab-df-quickchart-complete:disabled:hover {\n",
              "    background-color: var(--disabled-bg-color);\n",
              "    fill: var(--disabled-fill-color);\n",
              "    box-shadow: none;\n",
              "  }\n",
              "\n",
              "  .colab-df-spinner {\n",
              "    border: 2px solid var(--fill-color);\n",
              "    border-color: transparent;\n",
              "    border-bottom-color: var(--fill-color);\n",
              "    animation:\n",
              "      spin 1s steps(1) infinite;\n",
              "  }\n",
              "\n",
              "  @keyframes spin {\n",
              "    0% {\n",
              "      border-color: transparent;\n",
              "      border-bottom-color: var(--fill-color);\n",
              "      border-left-color: var(--fill-color);\n",
              "    }\n",
              "    20% {\n",
              "      border-color: transparent;\n",
              "      border-left-color: var(--fill-color);\n",
              "      border-top-color: var(--fill-color);\n",
              "    }\n",
              "    30% {\n",
              "      border-color: transparent;\n",
              "      border-left-color: var(--fill-color);\n",
              "      border-top-color: var(--fill-color);\n",
              "      border-right-color: var(--fill-color);\n",
              "    }\n",
              "    40% {\n",
              "      border-color: transparent;\n",
              "      border-right-color: var(--fill-color);\n",
              "      border-top-color: var(--fill-color);\n",
              "    }\n",
              "    60% {\n",
              "      border-color: transparent;\n",
              "      border-right-color: var(--fill-color);\n",
              "    }\n",
              "    80% {\n",
              "      border-color: transparent;\n",
              "      border-right-color: var(--fill-color);\n",
              "      border-bottom-color: var(--fill-color);\n",
              "    }\n",
              "    90% {\n",
              "      border-color: transparent;\n",
              "      border-bottom-color: var(--fill-color);\n",
              "    }\n",
              "  }\n",
              "</style>\n",
              "\n",
              "  <script>\n",
              "    async function quickchart(key) {\n",
              "      const quickchartButtonEl =\n",
              "        document.querySelector('#' + key + ' button');\n",
              "      quickchartButtonEl.disabled = true;  // To prevent multiple clicks.\n",
              "      quickchartButtonEl.classList.add('colab-df-spinner');\n",
              "      try {\n",
              "        const charts = await google.colab.kernel.invokeFunction(\n",
              "            'suggestCharts', [key], {});\n",
              "      } catch (error) {\n",
              "        console.error('Error during call to suggestCharts:', error);\n",
              "      }\n",
              "      quickchartButtonEl.classList.remove('colab-df-spinner');\n",
              "      quickchartButtonEl.classList.add('colab-df-quickchart-complete');\n",
              "    }\n",
              "    (() => {\n",
              "      let quickchartButtonEl =\n",
              "        document.querySelector('#df-04f7a09d-ba8d-4434-a662-5c0800be4d29 button');\n",
              "      quickchartButtonEl.style.display =\n",
              "        google.colab.kernel.accessAllowed ? 'block' : 'none';\n",
              "    })();\n",
              "  </script>\n",
              "</div>\n",
              "    </div>\n",
              "  </div>\n"
            ],
            "application/vnd.google.colaboratory.intrinsic+json": {
              "type": "dataframe",
              "variable_name": "correlations",
              "summary": "{\n  \"name\": \"correlations\",\n  \"rows\": 6,\n  \"fields\": [\n    {\n      \"column\": \"temp\",\n      \"properties\": {\n        \"dtype\": \"number\",\n        \"std\": 0.5401599868801317,\n        \"min\": -0.15794412041210718,\n        \"max\": 1.0,\n        \"num_unique_values\": 6,\n        \"samples\": [\n          1.0,\n          0.9917015532294642,\n          0.6274940090334912\n        ],\n        \"semantic_type\": \"\",\n        \"description\": \"\"\n      }\n    },\n    {\n      \"column\": \"atemp\",\n      \"properties\": {\n        \"dtype\": \"number\",\n        \"std\": 0.5499787448183521,\n        \"min\": -0.1836429666908312,\n        \"max\": 1.0,\n        \"num_unique_values\": 6,\n        \"samples\": [\n          0.9917015532294642,\n          1.0,\n          0.631065699849181\n        ],\n        \"semantic_type\": \"\",\n        \"description\": \"\"\n      }\n    },\n    {\n      \"column\": \"hum\",\n      \"properties\": {\n        \"dtype\": \"number\",\n        \"std\": 0.4679056450520421,\n        \"min\": -0.24848909864371424,\n        \"max\": 1.0,\n        \"num_unique_values\": 6,\n        \"samples\": [\n          0.12696293902718844,\n          0.13998805994655938,\n          -0.10065856213715627\n        ],\n        \"semantic_type\": \"\",\n        \"description\": \"\"\n      }\n    },\n    {\n      \"column\": \"windspeed(mph)\",\n      \"properties\": {\n        \"dtype\": \"number\",\n        \"std\": 0.6237269774249969,\n        \"min\": -0.24848909864371424,\n        \"max\": 1.0,\n        \"num_unique_values\": 6,\n        \"samples\": [\n          -0.15794412041209963,\n          -0.18364296669082858,\n          -0.2345449974216701\n        ],\n        \"semantic_type\": \"\",\n        \"description\": \"\"\n      }\n    },\n    {\n      \"column\": \"windspeed(ms)\",\n      \"properties\": {\n        \"dtype\": \"number\",\n        \"std\": 0.6237269774249962,\n        \"min\": -0.24848909864368154,\n        \"max\": 1.0,\n        \"num_unique_values\": 6,\n        \"samples\": [\n          -0.15794412041210718,\n          -0.1836429666908312,\n          -0.2345449974216897\n        ],\n        \"semantic_type\": \"\",\n        \"description\": \"\"\n      }\n    },\n    {\n      \"column\": \"cnt\",\n      \"properties\": {\n        \"dtype\": \"number\",\n        \"std\": 0.5360597582726768,\n        \"min\": -0.2345449974216897,\n        \"max\": 1.0,\n        \"num_unique_values\": 6,\n        \"samples\": [\n          0.6274940090334912,\n          0.631065699849181,\n          1.0\n        ],\n        \"semantic_type\": \"\",\n        \"description\": \"\"\n      }\n    }\n  ]\n}"
            }
          },
          "metadata": {},
          "execution_count": 19
        }
      ]
    },
    {
      "cell_type": "markdown",
      "source": [
        "На діагоналях, як і належить, стоять одиниці. Однак у матриці є ще дві пари сильно корелюючих стовпців: temp і atemp (корелюють за своєю природою) і два windspeed (тому що це просто переведення одних одиниць в інші). Далі ми побачимо, що цей факт негативно позначається на навчанні лінійної моделі."
      ],
      "metadata": {
        "id": "jkri5hVgx-5g"
      }
    },
    {
      "cell_type": "markdown",
      "source": [
        "Насамкінець подивимося середні ознак (метод mean), щоб оцінити масштаб ознак і частки 1 у бінарних ознак."
      ],
      "metadata": {
        "id": "bIE_k-JeyEQH"
      }
    },
    {
      "cell_type": "markdown",
      "source": [
        "# Завдання 4"
      ],
      "metadata": {
        "id": "L23urNYAyIq_"
      }
    },
    {
      "cell_type": "markdown",
      "source": [
        "Виведіть середні ознак."
      ],
      "metadata": {
        "id": "XG7soOhEyW6r"
      }
    },
    {
      "cell_type": "code",
      "source": [
        "df.mean()"
      ],
      "metadata": {
        "colab": {
          "base_uri": "https://localhost:8080/"
        },
        "id": "VSxrErSwycDn",
        "outputId": "f1b5aa01-8a64-4237-aea6-9c8d3eaa8310"
      },
      "execution_count": 20,
      "outputs": [
        {
          "output_type": "execute_result",
          "data": {
            "text/plain": [
              "season               2.496580\n",
              "yr                   0.500684\n",
              "mnth                 6.519836\n",
              "holiday              0.028728\n",
              "weekday              2.997264\n",
              "workingday           0.683995\n",
              "weathersit           1.395349\n",
              "temp                20.310776\n",
              "atemp               23.717699\n",
              "hum                 62.789406\n",
              "windspeed(mph)      12.762576\n",
              "windspeed(ms)        5.705220\n",
              "cnt               4504.348837\n",
              "dtype: float64"
            ]
          },
          "metadata": {},
          "execution_count": 20
        }
      ]
    },
    {
      "cell_type": "markdown",
      "source": [
        "Ознаки мають різний масштаб, отже, для подальшої роботи нам краще нормувати матрицю об'єкти-ознаки."
      ],
      "metadata": {
        "id": "1tCCeXy8ynyJ"
      }
    },
    {
      "cell_type": "markdown",
      "source": [
        "\n",
        "\n",
        "*   Проблема перша: колінеарні ознаки\n",
        "\n",
        "\n",
        "\n"
      ],
      "metadata": {
        "id": "oJfZek0uyrtH"
      }
    },
    {
      "cell_type": "markdown",
      "source": [
        "Отже, у наших даних одна ознака дублює іншу, і є ще дві дуже схожі. Звичайно, ми могли б одразу видалити дублікати, але давайте подивимося, як відбувалося б навчання моделі, якби ми не помітили цю проблему.\n",
        "\n",
        "Для початку проведемо масштабування, або стандартизацію ознак: з кожної ознаки віднімемо її середнє і поділимо на стандартне відхилення. Це можна зробити за допомогою методу scale.\n",
        "\n",
        "Крім того, необхідно перемішати вибірку, це буде потрібно для крос-валідації."
      ],
      "metadata": {
        "id": "CKVQXIYty2dM"
      }
    },
    {
      "cell_type": "code",
      "source": [
        "from sklearn.preprocessing import scale\n",
        "from sklearn.utils import shuffle"
      ],
      "metadata": {
        "id": "7p_cZ38FzFW1"
      },
      "execution_count": 21,
      "outputs": []
    },
    {
      "cell_type": "code",
      "source": [
        "df_shuffled = shuffle(df, random_state=42)\n",
        "X = scale(df_shuffled[df_shuffled.columns[:-1]])\n",
        "y = df_shuffled[\"cnt\"]"
      ],
      "metadata": {
        "id": "MxYPZGnv5bIN"
      },
      "execution_count": 22,
      "outputs": []
    },
    {
      "cell_type": "markdown",
      "source": [
        "Давайте навчимо лінійну регресію на наших даних і подивимося на ваги ознак."
      ],
      "metadata": {
        "id": "m5K4zsBl7BUb"
      }
    },
    {
      "cell_type": "code",
      "source": [
        "from sklearn.linear_model import LinearRegression\n"
      ],
      "metadata": {
        "id": "Q1DTB7aO7CF0"
      },
      "execution_count": 24,
      "outputs": []
    },
    {
      "cell_type": "markdown",
      "source": [
        "# Завдання 5"
      ],
      "metadata": {
        "id": "4NCMsJfTBqfq"
      }
    },
    {
      "cell_type": "markdown",
      "source": [
        "Створіть об'єкт лінійного регресора, навчіть його на всіх даних і виведіть ваги моделі (ваги зберігаються у змінній coef_ класу регресора). Можна виводити пари (назва ознаки, вага), скориставшись функцією zip, вбудованою в мову python. Назви ознак зберігаються у змінній df.columns."
      ],
      "metadata": {
        "id": "94h8vb4FBvlS"
      }
    },
    {
      "cell_type": "code",
      "source": [
        "model = LinearRegression()\n",
        "model.fit(X, y)\n",
        "model.coef_"
      ],
      "metadata": {
        "colab": {
          "base_uri": "https://localhost:8080/"
        },
        "id": "8fqGHlWrBzyM",
        "outputId": "58d9ad3d-be1d-407f-ab9a-d5de329f091f"
      },
      "execution_count": 25,
      "outputs": [
        {
          "output_type": "execute_result",
          "data": {
            "text/plain": [
              "array([ 5.70863796e+02,  1.02196538e+03, -1.41301745e+02, -8.67593446e+01,\n",
              "        1.37225064e+02,  5.63918818e+01, -3.30226462e+02,  3.67483733e+02,\n",
              "        5.85549386e+02, -1.45614306e+02,  1.24571384e+13, -1.24571384e+13])"
            ]
          },
          "metadata": {},
          "execution_count": 25
        }
      ]
    },
    {
      "cell_type": "code",
      "source": [
        "for column,weight in zip(df.columns, model.coef_):\n",
        "  print(f\"{column}: {weight}\")"
      ],
      "metadata": {
        "colab": {
          "base_uri": "https://localhost:8080/"
        },
        "id": "aJBxgiICDbsx",
        "outputId": "0e9c799c-7365-413d-e30a-b9a3cf949690"
      },
      "execution_count": 26,
      "outputs": [
        {
          "output_type": "stream",
          "name": "stdout",
          "text": [
            "season: 570.8637960129914\n",
            "yr: 1021.9653779400622\n",
            "mnth: -141.3017451148728\n",
            "holiday: -86.7593446245368\n",
            "weekday: 137.22506441350538\n",
            "workingday: 56.391881775973005\n",
            "weathersit: -330.2264620440312\n",
            "temp: 367.48373260182126\n",
            "atemp: 585.5493861188597\n",
            "hum: -145.61430569885857\n",
            "windspeed(mph): 12457138390688.885\n",
            "windspeed(ms): -12457138390887.346\n"
          ]
        }
      ]
    },
    {
      "cell_type": "markdown",
      "source": [
        "Ми бачимо, що ваги при лінійно-залежних ознаках за модулем значно більші, ніж при інших ознаках. Щоб зрозуміти, чому так сталося, згадаємо аналітичну формулу, за якою обчислюються ваги лінійної моделі в методі найменших квадратів:\n",
        "\n",
        "$$w = (X^TX)^{-1} X^T y$$\n",
        "\n",
        "Якщо в $X$ є колінеарні (лінійно-залежні) стовпці, матриця $X^TX$ стає виродженою, і формула перестає бути коректною. Чим більш залежні ознаки, тим менший визначник цієї матриці й тим гірша апроксимація $Xw \\approx y$. Таку ситуацію називають _проблемою мультиколінеарності_.\n",
        "\n"
      ],
      "metadata": {
        "id": "M4y14-oJMtLC"
      }
    },
    {
      "cell_type": "markdown",
      "source": [
        "З парою (temp, atemp) трохи менше корелюючих змінних такого не сталося, однак на практиці завжди варто уважно стежити за коефіцієнтами при схожих ознаках."
      ],
      "metadata": {
        "id": "S_Ec3QLQM_4U"
      }
    },
    {
      "cell_type": "markdown",
      "source": [
        "Для того щоб розв'язати проблему мультиколінеарності, потрібно скористатися регуляризатором. До оптимізуючого функціоналу додають $L_1$ або $L_2$ норму ваг, помножену на коефіцієнт регуляризації $\\alpha$. У першому випадку метод називається Lasso, а у другому — Ridge."
      ],
      "metadata": {
        "id": "KqKJU0maNBE4"
      }
    },
    {
      "cell_type": "markdown",
      "source": [
        "# Завдання 6"
      ],
      "metadata": {
        "id": "kBMVjCkmNHrY"
      }
    },
    {
      "cell_type": "markdown",
      "source": [
        "Давайте спробуємо навчити лінійні моделі з $L_1$ і $L_2$-регуляризацією, а далі порівняємо їхні ваги. Навчіть регресори Ridge і Lasso з параметрами за замовчуванням і переконайтеся, що проблема з вагами вирішилась."
      ],
      "metadata": {
        "id": "R32L_xNLNJ3E"
      }
    },
    {
      "cell_type": "code",
      "source": [
        "from sklearn.linear_model import Lasso\n",
        "L1 = Lasso()\n",
        "L1.fit(X, y)\n",
        "for column,weight in zip(df.columns, L1.coef_):\n",
        "  print(f\"{column}: {weight}\")"
      ],
      "metadata": {
        "colab": {
          "base_uri": "https://localhost:8080/"
        },
        "id": "Nsa36w8dNNWn",
        "outputId": "9dc33ccb-42f2-4144-de44-33984b66eb31"
      },
      "execution_count": 27,
      "outputs": [
        {
          "output_type": "stream",
          "name": "stdout",
          "text": [
            "season: 560.2416160308861\n",
            "yr: 1019.4634940657196\n",
            "mnth: -128.73062703678696\n",
            "holiday: -86.15278133371106\n",
            "weekday: 137.34789390496314\n",
            "workingday: 55.21237064135668\n",
            "weathersit: -332.3698569623487\n",
            "temp: 376.3632362096943\n",
            "atemp: 576.530793504555\n",
            "hum: -144.12915500348583\n",
            "windspeed(mph): -197.1396894024843\n",
            "windspeed(ms): -2.8051404183533485e-08\n"
          ]
        }
      ]
    },
    {
      "cell_type": "markdown",
      "source": [
        "Навчіть лінійну модель з  L2 -регуляризацією (клас Ridge) і виведіть ваги."
      ],
      "metadata": {
        "id": "MoGdyvWZOadZ"
      }
    },
    {
      "cell_type": "code",
      "source": [
        "from sklearn.linear_model import Ridge\n",
        "L2 = Ridge()\n",
        "L2.fit(X, y)\n",
        "for column,weight in zip(df.columns, L2.coef_):\n",
        "  print(f\"{column}: {weight}\")"
      ],
      "metadata": {
        "colab": {
          "base_uri": "https://localhost:8080/"
        },
        "id": "HNiRxQLaObTT",
        "outputId": "f9563a62-596d-4e3a-ee89-9133e5f6f5e0"
      },
      "execution_count": 28,
      "outputs": [
        {
          "output_type": "stream",
          "name": "stdout",
          "text": [
            "season: 563.0645722520181\n",
            "yr: 1018.9483787875305\n",
            "mnth: -131.87332028247715\n",
            "holiday: -86.74609799709232\n",
            "weekday: 138.00511117871918\n",
            "workingday: 55.90311037506467\n",
            "weathersit: -332.34978849907367\n",
            "temp: 386.45788919190807\n",
            "atemp: 566.3470470600669\n",
            "hum: -145.07132729867195\n",
            "windspeed(mph): -99.25944108179067\n",
            "windspeed(ms): -99.25944115434177\n"
          ]
        }
      ]
    },
    {
      "cell_type": "markdown",
      "source": [
        "# Завдання 7"
      ],
      "metadata": {
        "id": "rph9SzN9O4Oo"
      }
    },
    {
      "cell_type": "markdown",
      "source": [
        "На відміну від $L_2$-регуляризації, $L_1$ обнуляє ваги при деяких ознаках. Давайте поспостерігаємо, як змінюються ваги зі збільшенням коефіцієнта регуляризації $\\alpha$."
      ],
      "metadata": {
        "id": "C8OlIhbKO7Pu"
      }
    },
    {
      "cell_type": "markdown",
      "source": [
        "Для кожного значення коефіцієнта з `alphas` навчіть регресор `Lasso` і запишіть ваги у список `coefs_lasso`, а потім навчіть `Ridge` і запишіть ваги у список`coefs_ridge`. Конвертуйте отримані списки в `np.array`."
      ],
      "metadata": {
        "id": "7S0jqjy3PD71"
      }
    },
    {
      "cell_type": "code",
      "source": [
        "alphas = np.arange(1, 500, 50)\n",
        "\n",
        "coefs_lasso = []\n",
        "coefs_ridge = []\n",
        "\n",
        "for alpha in alphas:\n",
        "    lasso = Lasso(alpha=alpha)\n",
        "    lasso.fit(X, y)\n",
        "    coefs_lasso.append(lasso.coef_)\n",
        "    ridge = Ridge(alpha=alpha)\n",
        "    ridge.fit(X, y)\n",
        "    coefs_ridge.append(ridge.coef_)\n",
        "\n",
        "coefs_lasso = np.array(coefs_lasso)\n",
        "coefs_ridge = np.array(coefs_ridge)\n",
        "print(\"coefs_lasso: \", coefs_lasso)\n",
        "print(\"---------------------------------\")\n",
        "print(\"coefs_ridge: \", coefs_ridge)"
      ],
      "metadata": {
        "colab": {
          "base_uri": "https://localhost:8080/"
        },
        "id": "gfYnzUqQPG7x",
        "outputId": "cccd7090-322c-4fa4-f220-86eedce66022"
      },
      "execution_count": 30,
      "outputs": [
        {
          "output_type": "stream",
          "name": "stdout",
          "text": [
            "coefs_lasso:  [[ 5.60241616e+02  1.01946349e+03 -1.28730627e+02 -8.61527813e+01\n",
            "   1.37347894e+02  5.52123706e+01 -3.32369857e+02  3.76363236e+02\n",
            "   5.76530794e+02 -1.44129155e+02 -1.97139689e+02 -2.80514042e-08]\n",
            " [ 4.10969632e+02  9.77019409e+02 -0.00000000e+00 -5.34489688e+01\n",
            "   9.19434374e+01  1.75372118e+01 -3.18125568e+02  3.22829934e+02\n",
            "   6.10031512e+02 -9.10689615e+01 -1.45066095e+02 -2.29892889e-08]\n",
            " [ 3.70077089e+02  9.35945490e+02  0.00000000e+00 -1.21619360e+01\n",
            "   4.88886342e+01  0.00000000e+00 -3.08805664e+02  2.69417263e+02\n",
            "   6.32502623e+02 -2.75042876e+01 -9.37749037e+01 -2.41657943e-08]\n",
            " [ 3.32835717e+02  8.91870058e+02  0.00000000e+00 -0.00000000e+00\n",
            "   0.00000000e+00  0.00000000e+00 -2.79616688e+02  2.11052030e+02\n",
            "   6.62920880e+02 -0.00000000e+00 -5.01551472e+01 -2.62789872e-08]\n",
            " [ 2.98134448e+02  8.45652857e+02  0.00000000e+00 -0.00000000e+00\n",
            "   0.00000000e+00  0.00000000e+00 -2.35571345e+02  1.24144807e+02\n",
            "   7.25379483e+02 -0.00000000e+00 -1.26461769e+01 -2.78775678e-08]\n",
            " [ 2.58927201e+02  7.99237273e+02  0.00000000e+00 -0.00000000e+00\n",
            "   0.00000000e+00  0.00000000e+00 -1.90821549e+02  7.20759379e+01\n",
            "   7.50363107e+02 -0.00000000e+00 -0.00000000e+00 -0.00000000e+00]\n",
            " [ 2.17427513e+02  7.52720808e+02  0.00000000e+00 -0.00000000e+00\n",
            "   0.00000000e+00  0.00000000e+00 -1.45713398e+02  3.77153655e+01\n",
            "   7.56296866e+02 -0.00000000e+00 -0.00000000e+00 -0.00000000e+00]\n",
            " [ 1.75929845e+02  7.06203788e+02  0.00000000e+00 -0.00000000e+00\n",
            "   0.00000000e+00  0.00000000e+00 -1.00605389e+02  3.66093817e+00\n",
            "   7.61926337e+02 -0.00000000e+00 -0.00000000e+00 -0.00000000e+00]\n",
            " [ 1.34628497e+02  6.59632535e+02  0.00000000e+00 -0.00000000e+00\n",
            "   0.00000000e+00  0.00000000e+00 -5.55110633e+01  0.00000000e+00\n",
            "   7.37348061e+02 -0.00000000e+00 -0.00000000e+00 -0.00000000e+00]\n",
            " [ 9.33517423e+01  6.13054639e+02  0.00000000e+00 -0.00000000e+00\n",
            "   0.00000000e+00  0.00000000e+00 -1.04185690e+01  0.00000000e+00\n",
            "   7.09130877e+02 -0.00000000e+00 -0.00000000e+00 -0.00000000e+00]]\n",
            "---------------------------------\n",
            "coefs_ridge:  [[ 563.06457225 1018.94837879 -131.87332028  -86.746098    138.00511118\n",
            "    55.90311038 -332.3497885   386.45788919  566.34704706 -145.0713273\n",
            "   -99.25944108  -99.25944115]\n",
            " [ 461.1786324   954.30774189  -41.56545001  -84.91347027  126.60366663\n",
            "    54.2516911  -313.27515141  458.90147709  481.44350031 -151.29101033\n",
            "  -101.62731482 -101.62731483]\n",
            " [ 403.97653045  898.08362212    5.67424346  -81.91106159  117.94141144\n",
            "    52.72848389 -298.40898086  455.28986839  467.43141748 -152.68605059\n",
            "  -102.10167084 -102.10167084]\n",
            " [ 366.60423851  848.46346471   34.02728278  -78.77196479  110.68012006\n",
            "    51.25719208 -286.12515935  447.47982533  455.75402966 -151.48320603\n",
            "  -102.00537592 -102.00537593]\n",
            " [ 339.74528956  804.25104797   52.48987295  -75.71740756  104.40346414\n",
            "    49.84189502 -275.48609488  438.50968939  444.7642744  -148.94396978\n",
            "  -101.58638458 -101.58638458]\n",
            " [ 319.15864133  764.5614337    65.15200737  -72.81970821   98.87880449\n",
            "    48.4845255  -266.00255564  429.21412336  434.23523472 -145.6981149\n",
            "  -100.96471143 -100.96471143]\n",
            " [ 302.63606049  728.70854018   74.13828141  -70.09898324   93.95581101\n",
            "    47.18533838 -257.390629    419.9261517   424.12192175 -142.08934531\n",
            "  -100.20862041 -100.20862041]\n",
            " [ 288.91327631  696.14581646   80.660457    -67.55485237   89.52867543\n",
            "    45.94346702 -249.47139541  410.80018411  414.40937279 -138.31653824\n",
            "   -99.36066117  -99.36066117]\n",
            " [ 277.21321566  666.42974721   85.45925409  -65.17870596   85.51866655\n",
            "    44.75730348 -242.12439914  401.91194457  405.08585263 -134.4990383\n",
            "   -98.44906427  -98.44906427]\n",
            " [ 267.03109023  639.19536755   89.01232285  -62.95890597   81.86490933\n",
            "    43.62477037 -235.26399722  393.29798599  396.13815546 -130.70987223\n",
            "   -97.49343362  -97.49343362]]\n"
          ]
        }
      ]
    },
    {
      "cell_type": "markdown",
      "source": [
        "Проаналізуйте динаміку ваг при збільшенні параметра регуляризації:"
      ],
      "metadata": {
        "id": "TT-tRrYMSYiK"
      }
    },
    {
      "cell_type": "code",
      "source": [
        "plt.figure(figsize=(8, 5))\n",
        "\n",
        "for coef, feature in zip(coefs_lasso.T, df.columns):\n",
        "    plt.plot(alphas, coef, label=feature, color=np.random.rand(3))\n",
        "\n",
        "plt.legend(loc=\"upper right\", bbox_to_anchor=(1.4, 0.95))\n",
        "plt.xlabel(\"alpha\")\n",
        "plt.ylabel(\"feature weight\")\n",
        "plt.title(\"Lasso\")\n",
        "\n",
        "plt.figure(figsize=(8, 5))\n",
        "for coef, feature in zip(coefs_ridge.T, df.columns):\n",
        "    plt.plot(alphas, coef, label=feature, color=np.random.rand(3))\n",
        "\n",
        "plt.legend(loc=\"upper right\", bbox_to_anchor=(1.4, 0.95))\n",
        "plt.xlabel(\"alpha\")\n",
        "plt.ylabel(\"feature weight\")\n",
        "plt.title(\"Ridge\")\n",
        "\n",
        "plt.show()"
      ],
      "metadata": {
        "colab": {
          "base_uri": "https://localhost:8080/",
          "height": 958
        },
        "id": "t4WHOVjLSbiH",
        "outputId": "7b6215ed-bbfe-474c-ff66-acdbe0b16693"
      },
      "execution_count": 31,
      "outputs": [
        {
          "output_type": "display_data",
          "data": {
            "text/plain": [
              "<Figure size 800x500 with 1 Axes>"
            ],
            "image/png": "[encoded data removed]"
          },
          "metadata": {}
        },
        {
          "output_type": "display_data",
          "data": {
            "text/plain": [
              "<Figure size 800x500 with 1 Axes>"
            ],
            "image/png": "[encoded data removed]"
          },
          "metadata": {}
        }
      ]
    },
    {
      "cell_type": "markdown",
      "source": [
        "Проаналізуйте графіки та дайте відповіді на такі запитання."
      ],
      "metadata": {
        "id": "5Qn_87MMSohL"
      }
    },
    {
      "cell_type": "markdown",
      "source": [
        "\n",
        "\n",
        "1.   Який регуляризатор (Ridge або Lasso) агресивніше зменшує ваги при одному й тому самому alpha?\n",
        "Відповідь: Lasso\n",
        "2.   Що станеться з вагами Lasso, якщо alpha зробити дуже великим? Поясніть, чому так відбувається.\n",
        "Відповідь: Велике значення alpha зануляє ваги\n",
        "3. Чи можна стверджувати, що `Lasso` виключає одну з ознак `windspeed` при будь-якому значенні `alpha > 0`? А Ridge? Вважається, що регуляризатор виключає ознаку, якщо коефіцієнт при ньому менший $10^{-3}$.\n",
        "Відповідь: Так, для Lasso так можна стверджувати, а от для Ridge ні, вони просто будуть малими\n",
        "4. Який із регуляризаторів підійде для відбору неінформативних ознак?\n",
        "Відповідь: L1-регуляризацію (Lasso) за рахунок занулення.\n",
        "\n",
        "\n"
      ],
      "metadata": {
        "id": "DdHmYXTcSqLE"
      }
    },
    {
      "cell_type": "markdown",
      "source": [
        "# Завдання 8"
      ],
      "metadata": {
        "id": "YwkLJ41zVlvd"
      }
    },
    {
      "cell_type": "markdown",
      "source": [
        "Далі будемо працювати з `Lasso`.\n",
        "\n",
        "Отже, ми бачимо, що при зміні alpha модель по-різному підбирає коефіцієнти ознак. Нам потрібно вибрати найкраще alpha.\n",
        "\n",
        "Для цього, по-перше, нам потрібна метрика якості. Будемо використовувати як метрику сам оптимізований функціонал методу найменших квадратів, тобто `Mean Square Error`.\n",
        "\n",
        "По-друге, потрібно зрозуміти, на яких даних цю метрику рахувати. Не можна вибирати `alpha` за значенням MSE на навчальній вибірці, тому що тоді ми не зможемо оцінити, як модель буде робити передбачення на нових для неї даних. Якщо ми виберемо одне розбиття вибірки на навчальну та тестову (це називається holdout), то налаштуємося на конкретні \"нові\" дані, і знову можемо перенавчитися. Тому будемо робити декілька розбиттів вибірки, на кожному пробувати різні значення alpha, а потім усереднювати MSE. Найзручніше робити такі розбиття крос-валідацією, тобто розділити вибірку на $K$ частин, і кожного разу брати одну з них як тестову, а з блоків, що залишилися, складати навчальну вибірку."
      ],
      "metadata": {
        "id": "mEi6NkurVvJu"
      }
    },
    {
      "cell_type": "markdown",
      "source": [
        "Робити крос-валідацію для регресії в sklearn зовсім просто: для цього є спеціальний регресор, __LassoCV__, який бере на вхід список із alpha і для кожного з них обчислює MSE на крос-валідації. Після навчання (якщо залишити параметр cv=3 за замовчуванням) регресор буде містити змінну __mse\\_path\\___, матрицю розміру len(alpha) x k, k = 3 (число блоків у крос-валідації), що містить значення MSE на тесті для відповідних запусків. Крім того, у змінній alpha\\_ буде зберігатися вибране значення параметра регуляризації, а в coef\\_, традиційно, навчені ваги, що відповідають цьому alpha_.\n",
        "\n",
        "Зверніть увагу, що регресор може змінювати порядок, у якому він проходить по alphas; для зіставлення з матрицею MSE краще використовувати змінну регресора alphas_."
      ],
      "metadata": {
        "id": "jhsJymkVY9MG"
      }
    },
    {
      "cell_type": "markdown",
      "source": [
        "Навчіть регресор `LassoCV` на всіх параметрах регуляризації з alpha. Побудуйте графік _усередненого_ за рядками `MSE` в залежності від `alpha` (використовуйте для цього функцію `create_plot`).\n",
        "\n",
        "Виведіть вибране `alpha`, а також пари \"ознака-коефіцієнт\" для навченого вектора коефіцієнтів."
      ],
      "metadata": {
        "id": "mDBaDhVvZKh6"
      }
    },
    {
      "cell_type": "code",
      "source": [
        "def create_plot(data, title, xlabel, ylabel, figsize=None):\n",
        "    size = figsize or (15, 5)\n",
        "    plt.figure(figsize=size)\n",
        "\n",
        "    x = list(map(lambda e: e[0], data))\n",
        "    y = list(map(lambda e: e[1], data))\n",
        "    plt.plot(x, y, marker='^')\n",
        "\n",
        "    plt.title(title)\n",
        "    plt.xlabel(xlabel)\n",
        "    plt.ylabel(ylabel)\n",
        "\n",
        "    plt.grid()\n",
        "    plt.show()"
      ],
      "metadata": {
        "id": "PW-U_9daZPz3"
      },
      "execution_count": 37,
      "outputs": []
    },
    {
      "cell_type": "code",
      "source": [
        "from sklearn.linear_model import LassoCV\n",
        "\n",
        "alphas = np.arange(1, 100, 5)\n",
        "\n",
        "\n",
        "regressor = LassoCV(alphas=alphas, cv=3)\n",
        "regressor.fit(X, y)\n",
        "\n",
        "mse_values = np.mean(regressor.mse_path_, axis=1)\n",
        "alpha_values = regressor.alphas_\n",
        "data = list(zip(alpha_values, mse_values))\n",
        "\n",
        "for feature, weight in zip(df.columns, regressor.coef_):\n",
        "  print(f'{feature}: {weight}')\n",
        "create_plot(data, \"графік усередненого за рядками MSE залежно від alpha\", \"Alpha\", \"MSE\")"
      ],
      "metadata": {
        "colab": {
          "base_uri": "https://localhost:8080/",
          "height": 715
        },
        "id": "XeyKwwxWaZnC",
        "outputId": "adea84a0-c47c-4266-8c62-3756c8ca337b"
      },
      "execution_count": 38,
      "outputs": [
        {
          "output_type": "stream",
          "name": "stdout",
          "text": [
            "season: 532.0189828413535\n",
            "yr: 1015.0602226430595\n",
            "mnth: -100.03952614356629\n",
            "holiday: -83.29395987529904\n",
            "weekday: 132.50446549095795\n",
            "workingday: 51.557085614073735\n",
            "weathersit: -330.5598567399817\n",
            "temp: 370.67985503003405\n",
            "atemp: 581.396931065498\n",
            "hum: -140.00740550068844\n",
            "windspeed(mph): -191.77140847135036\n",
            "windspeed(ms): -2.6854702314758792e-08\n"
          ]
        },
        {
          "output_type": "display_data",
          "data": {
            "text/plain": [
              "<Figure size 1500x500 with 1 Axes>"
            ],
            "image/png": "[encoded data removed]"
          },
          "metadata": {}
        }
      ]
    },
    {
      "cell_type": "markdown",
      "source": [
        "Отже, ми вибрали певний параметр регуляризації. Давайте подивимося, які б ми вибирали alpha, якби ділили вибірку лише один раз на навчальну та тестову, тобто розглянемо траєкторії MSE, що відповідають окремим блокам вибірки."
      ],
      "metadata": {
        "id": "X9-Uj2-qfFj2"
      }
    },
    {
      "cell_type": "markdown",
      "source": [
        "# Завдання 9"
      ],
      "metadata": {
        "id": "yv7uwTjSfGoZ"
      }
    },
    {
      "cell_type": "markdown",
      "source": [
        "Виведіть значення `alpha`, що відповідають мінімумам `MSE` на кожному розбитті (тобто за стовпцями).\n",
        "На трьох окремих графіках візуалізуйте стовпці `mse_path_`."
      ],
      "metadata": {
        "id": "aSOFjDVuf2Kq"
      }
    },
    {
      "cell_type": "code",
      "source": [
        "index_min_alpha_mse = np.argmin(regressor.mse_path_, axis = 0) # Find the indices corresponding to the min mse for each alpha\n",
        "display(pd.DataFrame({'Alpha': [data[index][0] for index in index_min_alpha_mse], 'MSE': [data[index][1] for index in index_min_alpha_mse]}))\n",
        "\n",
        "fig, axs = plt.subplots(1, 3, figsize=(20,5))\n",
        "for i, ax in enumerate(axs):\n",
        "  ax.plot(alpha_values, regressor.mse_path_[:, i])\n",
        "  ax.grid()\n",
        "  ax.set_xlabel('Alpha')\n",
        "  ax.set_ylabel('MSE')"
      ],
      "metadata": {
        "colab": {
          "base_uri": "https://localhost:8080/",
          "height": 389
        },
        "id": "2MrxOkTngLRP",
        "outputId": "8f41ae01-2f6a-4b14-bcd5-0020b72c2c8f"
      },
      "execution_count": 40,
      "outputs": [
        {
          "output_type": "display_data",
          "data": {
            "text/plain": [
              "   Alpha            MSE\n",
              "0      6  781531.090820\n",
              "1      1  785055.146787\n",
              "2     51  807264.702627"
            ],
            "text/html": [
              "\n",
              "  <div id=\"df-a153bfe8-89e5-4441-9e06-4d645b715a58\" class=\"colab-df-container\">\n",
              "    <div>\n",
              "<style scoped>\n",
              "    .dataframe tbody tr th:only-of-type {\n",
              "        vertical-align: middle;\n",
              "    }\n",
              "\n",
              "    .dataframe tbody tr th {\n",
              "        vertical-align: top;\n",
              "    }\n",
              "\n",
              "    .dataframe thead th {\n",
              "        text-align: right;\n",
              "    }\n",
              "</style>\n",
              "<table border=\"1\" class=\"dataframe\">\n",
              "  <thead>\n",
              "    <tr style=\"text-align: right;\">\n",
              "      <th></th>\n",
              "      <th>Alpha</th>\n",
              "      <th>MSE</th>\n",
              "    </tr>\n",
              "  </thead>\n",
              "  <tbody>\n",
              "    <tr>\n",
              "      <th>0</th>\n",
              "      <td>6</td>\n",
              "      <td>781531.090820</td>\n",
              "    </tr>\n",
              "    <tr>\n",
              "      <th>1</th>\n",
              "      <td>1</td>\n",
              "      <td>785055.146787</td>\n",
              "    </tr>\n",
              "    <tr>\n",
              "      <th>2</th>\n",
              "      <td>51</td>\n",
              "      <td>807264.702627</td>\n",
              "    </tr>\n",
              "  </tbody>\n",
              "</table>\n",
              "</div>\n",
              "    <div class=\"colab-df-buttons\">\n",
              "\n",
              "  <div class=\"colab-df-container\">\n",
              "    <button class=\"colab-df-convert\" onclick=\"convertToInteractive('df-a153bfe8-89e5-4441-9e06-4d645b715a58')\"\n",
              "            title=\"Convert this dataframe to an interactive table.\"\n",
              "            style=\"display:none;\">\n",
              "\n",
              "  <svg xmlns=\"http://www.w3.org/2000/svg\" height=\"24px\" viewBox=\"0 -960 960 960\">\n",
              "    <path d=\"M120-120v-720h720v720H120Zm60-500h600v-160H180v160Zm220 220h160v-160H400v160Zm0 220h160v-160H400v160ZM180-400h160v-160H180v160Zm440 0h160v-160H620v160ZM180-180h160v-160H180v160Zm440 0h160v-160H620v160Z\"/>\n",
              "  </svg>\n",
              "    </button>\n",
              "\n",
              "  <style>\n",
              "    .colab-df-container {\n",
              "      display:flex;\n",
              "      gap: 12px;\n",
              "    }\n",
              "\n",
              "    .colab-df-convert {\n",
              "      background-color: #E8F0FE;\n",
              "      border: none;\n",
              "      border-radius: 50%;\n",
              "      cursor: pointer;\n",
              "      display: none;\n",
              "      fill: #1967D2;\n",
              "      height: 32px;\n",
              "      padding: 0 0 0 0;\n",
              "      width: 32px;\n",
              "    }\n",
              "\n",
              "    .colab-df-convert:hover {\n",
              "      background-color: #E2EBFA;\n",
              "      box-shadow: 0px 1px 2px rgba(60, 64, 67, 0.3), 0px 1px 3px 1px rgba(60, 64, 67, 0.15);\n",
              "      fill: #174EA6;\n",
              "    }\n",
              "\n",
              "    .colab-df-buttons div {\n",
              "      margin-bottom: 4px;\n",
              "    }\n",
              "\n",
              "    [theme=dark] .colab-df-convert {\n",
              "      background-color: #3B4455;\n",
              "      fill: #D2E3FC;\n",
              "    }\n",
              "\n",
              "    [theme=dark] .colab-df-convert:hover {\n",
              "      background-color: #434B5C;\n",
              "      box-shadow: 0px 1px 3px 1px rgba(0, 0, 0, 0.15);\n",
              "      filter: drop-shadow(0px 1px 2px rgba(0, 0, 0, 0.3));\n",
              "      fill: #FFFFFF;\n",
              "    }\n",
              "  </style>\n",
              "\n",
              "    <script>\n",
              "      const buttonEl =\n",
              "        document.querySelector('#df-a153bfe8-89e5-4441-9e06-4d645b715a58 button.colab-df-convert');\n",
              "      buttonEl.style.display =\n",
              "        google.colab.kernel.accessAllowed ? 'block' : 'none';\n",
              "\n",
              "      async function convertToInteractive(key) {\n",
              "        const element = document.querySelector('#df-a153bfe8-89e5-4441-9e06-4d645b715a58');\n",
              "        const dataTable =\n",
              "          await google.colab.kernel.invokeFunction('convertToInteractive',\n",
              "                                                    [key], {});\n",
              "        if (!dataTable) return;\n",
              "\n",
              "        const docLinkHtml = 'Like what you see? Visit the ' +\n",
              "          '<a target=\"_blank\" href=https://colab.research.google.com/notebooks/data_table.ipynb>data table notebook</a>'\n",
              "          + ' to learn more about interactive tables.';\n",
              "        element.innerHTML = '';\n",
              "        dataTable['output_type'] = 'display_data';\n",
              "        await google.colab.output.renderOutput(dataTable, element);\n",
              "        const docLink = document.createElement('div');\n",
              "        docLink.innerHTML = docLinkHtml;\n",
              "        element.appendChild(docLink);\n",
              "      }\n",
              "    </script>\n",
              "  </div>\n",
              "\n",
              "\n",
              "<div id=\"df-c2449922-627b-4cd4-9126-c2a8b8fa58a2\">\n",
              "  <button class=\"colab-df-quickchart\" onclick=\"quickchart('df-c2449922-627b-4cd4-9126-c2a8b8fa58a2')\"\n",
              "            title=\"Suggest charts\"\n",
              "            style=\"display:none;\">\n",
              "\n",
              "<svg xmlns=\"http://www.w3.org/2000/svg\" height=\"24px\"viewBox=\"0 0 24 24\"\n",
              "     width=\"24px\">\n",
              "    <g>\n",
              "        <path d=\"M19 3H5c-1.1 0-2 .9-2 2v14c0 1.1.9 2 2 2h14c1.1 0 2-.9 2-2V5c0-1.1-.9-2-2-2zM9 17H7v-7h2v7zm4 0h-2V7h2v10zm4 0h-2v-4h2v4z\"/>\n",
              "    </g>\n",
              "</svg>\n",
              "  </button>\n",
              "\n",
              "<style>\n",
              "  .colab-df-quickchart {\n",
              "      --bg-color: #E8F0FE;\n",
              "      --fill-color: #1967D2;\n",
              "      --hover-bg-color: #E2EBFA;\n",
              "      --hover-fill-color: #174EA6;\n",
              "      --disabled-fill-color: #AAA;\n",
              "      --disabled-bg-color: #DDD;\n",
              "  }\n",
              "\n",
              "  [theme=dark] .colab-df-quickchart {\n",
              "      --bg-color: #3B4455;\n",
              "      --fill-color: #D2E3FC;\n",
              "      --hover-bg-color: #434B5C;\n",
              "      --hover-fill-color: #FFFFFF;\n",
              "      --disabled-bg-color: #3B4455;\n",
              "      --disabled-fill-color: #666;\n",
              "  }\n",
              "\n",
              "  .colab-df-quickchart {\n",
              "    background-color: var(--bg-color);\n",
              "    border: none;\n",
              "    border-radius: 50%;\n",
              "    cursor: pointer;\n",
              "    display: none;\n",
              "    fill: var(--fill-color);\n",
              "    height: 32px;\n",
              "    padding: 0;\n",
              "    width: 32px;\n",
              "  }\n",
              "\n",
              "  .colab-df-quickchart:hover {\n",
              "    background-color: var(--hover-bg-color);\n",
              "    box-shadow: 0 1px 2px rgba(60, 64, 67, 0.3), 0 1px 3px 1px rgba(60, 64, 67, 0.15);\n",
              "    fill: var(--button-hover-fill-color);\n",
              "  }\n",
              "\n",
              "  .colab-df-quickchart-complete:disabled,\n",
              "  .colab-df-quickchart-complete:disabled:hover {\n",
              "    background-color: var(--disabled-bg-color);\n",
              "    fill: var(--disabled-fill-color);\n",
              "    box-shadow: none;\n",
              "  }\n",
              "\n",
              "  .colab-df-spinner {\n",
              "    border: 2px solid var(--fill-color);\n",
              "    border-color: transparent;\n",
              "    border-bottom-color: var(--fill-color);\n",
              "    animation:\n",
              "      spin 1s steps(1) infinite;\n",
              "  }\n",
              "\n",
              "  @keyframes spin {\n",
              "    0% {\n",
              "      border-color: transparent;\n",
              "      border-bottom-color: var(--fill-color);\n",
              "      border-left-color: var(--fill-color);\n",
              "    }\n",
              "    20% {\n",
              "      border-color: transparent;\n",
              "      border-left-color: var(--fill-color);\n",
              "      border-top-color: var(--fill-color);\n",
              "    }\n",
              "    30% {\n",
              "      border-color: transparent;\n",
              "      border-left-color: var(--fill-color);\n",
              "      border-top-color: var(--fill-color);\n",
              "      border-right-color: var(--fill-color);\n",
              "    }\n",
              "    40% {\n",
              "      border-color: transparent;\n",
              "      border-right-color: var(--fill-color);\n",
              "      border-top-color: var(--fill-color);\n",
              "    }\n",
              "    60% {\n",
              "      border-color: transparent;\n",
              "      border-right-color: var(--fill-color);\n",
              "    }\n",
              "    80% {\n",
              "      border-color: transparent;\n",
              "      border-right-color: var(--fill-color);\n",
              "      border-bottom-color: var(--fill-color);\n",
              "    }\n",
              "    90% {\n",
              "      border-color: transparent;\n",
              "      border-bottom-color: var(--fill-color);\n",
              "    }\n",
              "  }\n",
              "</style>\n",
              "\n",
              "  <script>\n",
              "    async function quickchart(key) {\n",
              "      const quickchartButtonEl =\n",
              "        document.querySelector('#' + key + ' button');\n",
              "      quickchartButtonEl.disabled = true;  // To prevent multiple clicks.\n",
              "      quickchartButtonEl.classList.add('colab-df-spinner');\n",
              "      try {\n",
              "        const charts = await google.colab.kernel.invokeFunction(\n",
              "            'suggestCharts', [key], {});\n",
              "      } catch (error) {\n",
              "        console.error('Error during call to suggestCharts:', error);\n",
              "      }\n",
              "      quickchartButtonEl.classList.remove('colab-df-spinner');\n",
              "      quickchartButtonEl.classList.add('colab-df-quickchart-complete');\n",
              "    }\n",
              "    (() => {\n",
              "      let quickchartButtonEl =\n",
              "        document.querySelector('#df-c2449922-627b-4cd4-9126-c2a8b8fa58a2 button');\n",
              "      quickchartButtonEl.style.display =\n",
              "        google.colab.kernel.accessAllowed ? 'block' : 'none';\n",
              "    })();\n",
              "  </script>\n",
              "</div>\n",
              "    </div>\n",
              "  </div>\n"
            ],
            "application/vnd.google.colaboratory.intrinsic+json": {
              "type": "dataframe",
              "summary": "{\n  \"name\": \"  ax\",\n  \"rows\": 3,\n  \"fields\": [\n    {\n      \"column\": \"Alpha\",\n      \"properties\": {\n        \"dtype\": \"number\",\n        \"std\": 27,\n        \"min\": 1,\n        \"max\": 51,\n        \"num_unique_values\": 3,\n        \"samples\": [\n          6,\n          1,\n          51\n        ],\n        \"semantic_type\": \"\",\n        \"description\": \"\"\n      }\n    },\n    {\n      \"column\": \"MSE\",\n      \"properties\": {\n        \"dtype\": \"number\",\n        \"std\": 13951.715054306907,\n        \"min\": 781531.0908199243,\n        \"max\": 807264.7026273535,\n        \"num_unique_values\": 3,\n        \"samples\": [\n          781531.0908199243,\n          785055.1467870235,\n          807264.7026273535\n        ],\n        \"semantic_type\": \"\",\n        \"description\": \"\"\n      }\n    }\n  ]\n}"
            }
          },
          "metadata": {}
        },
        {
          "output_type": "display_data",
          "data": {
            "text/plain": [
              "<Figure size 2000x500 with 3 Axes>"
            ],
            "image/png": "[encoded data removed]"
          },
          "metadata": {}
        }
      ]
    },
    {
      "cell_type": "markdown",
      "source": [
        "На кожному розбитті оптимальне значення `alpha` своє, і йому відповідає велике MSE на інших розбиттях. Виходить, що ми налаштовуємося на конкретні навчальні та контрольні вибірки. При виборі `alpha` на крос-валідації ми вибираємо дещо \"середнє\", що даватиме прийнятне значення метрики на різних розбиттях вибірки."
      ],
      "metadata": {
        "id": "y5WCTvtQgzZf"
      }
    },
    {
      "cell_type": "markdown",
      "source": [
        "# Завдання 10"
      ],
      "metadata": {
        "id": "cJMuyKj4g3q5"
      }
    },
    {
      "cell_type": "markdown",
      "source": [
        "Запитання 1"
      ],
      "metadata": {
        "id": "dwMIQCzDjEJU"
      }
    },
    {
      "cell_type": "markdown",
      "source": [
        "В останній навченій моделі виберіть 4 ознаки з найбільшими (позитивними) коефіцієнтами (і випишіть їх), подивіться на візуалізації залежностей `cnt` від цих ознак, які ми зображали у блоці \"Ознайомлення з даними\". Чи видно зростаючу лінійну залежність `cnt` від цих ознак за графіками? Чи логічно стверджувати (виходячи зі здорового глузду), що чим більше значення цих ознак, тим більше людей захочуть взяти велосипеди?"
      ],
      "metadata": {
        "id": "ain4GD5yg6xl"
      }
    },
    {
      "cell_type": "markdown",
      "source": [
        "Відповідь:"
      ],
      "metadata": {
        "id": "6Bg5ZowYhAN1"
      }
    },
    {
      "cell_type": "code",
      "source": [
        "features = pd.DataFrame({'feature':df.columns[:-1], 'weight': regressor.coef_})\n",
        "features.sort_values(by=['weight'], ascending=False)[:4]"
      ],
      "metadata": {
        "colab": {
          "base_uri": "https://localhost:8080/",
          "height": 175
        },
        "id": "Bu3XAnSwiYSz",
        "outputId": "8db5e0f7-83fb-4103-b737-a64a75a8d08c"
      },
      "execution_count": 41,
      "outputs": [
        {
          "output_type": "execute_result",
          "data": {
            "text/plain": [
              "  feature       weight\n",
              "1      yr  1015.060223\n",
              "8   atemp   581.396931\n",
              "0  season   532.018983\n",
              "7    temp   370.679855"
            ],
            "text/html": [
              "\n",
              "  <div id=\"df-6bb6f479-e27b-4a94-a143-9c3434acf567\" class=\"colab-df-container\">\n",
              "    <div>\n",
              "<style scoped>\n",
              "    .dataframe tbody tr th:only-of-type {\n",
              "        vertical-align: middle;\n",
              "    }\n",
              "\n",
              "    .dataframe tbody tr th {\n",
              "        vertical-align: top;\n",
              "    }\n",
              "\n",
              "    .dataframe thead th {\n",
              "        text-align: right;\n",
              "    }\n",
              "</style>\n",
              "<table border=\"1\" class=\"dataframe\">\n",
              "  <thead>\n",
              "    <tr style=\"text-align: right;\">\n",
              "      <th></th>\n",
              "      <th>feature</th>\n",
              "      <th>weight</th>\n",
              "    </tr>\n",
              "  </thead>\n",
              "  <tbody>\n",
              "    <tr>\n",
              "      <th>1</th>\n",
              "      <td>yr</td>\n",
              "      <td>1015.060223</td>\n",
              "    </tr>\n",
              "    <tr>\n",
              "      <th>8</th>\n",
              "      <td>atemp</td>\n",
              "      <td>581.396931</td>\n",
              "    </tr>\n",
              "    <tr>\n",
              "      <th>0</th>\n",
              "      <td>season</td>\n",
              "      <td>532.018983</td>\n",
              "    </tr>\n",
              "    <tr>\n",
              "      <th>7</th>\n",
              "      <td>temp</td>\n",
              "      <td>370.679855</td>\n",
              "    </tr>\n",
              "  </tbody>\n",
              "</table>\n",
              "</div>\n",
              "    <div class=\"colab-df-buttons\">\n",
              "\n",
              "  <div class=\"colab-df-container\">\n",
              "    <button class=\"colab-df-convert\" onclick=\"convertToInteractive('df-6bb6f479-e27b-4a94-a143-9c3434acf567')\"\n",
              "            title=\"Convert this dataframe to an interactive table.\"\n",
              "            style=\"display:none;\">\n",
              "\n",
              "  <svg xmlns=\"http://www.w3.org/2000/svg\" height=\"24px\" viewBox=\"0 -960 960 960\">\n",
              "    <path d=\"M120-120v-720h720v720H120Zm60-500h600v-160H180v160Zm220 220h160v-160H400v160Zm0 220h160v-160H400v160ZM180-400h160v-160H180v160Zm440 0h160v-160H620v160ZM180-180h160v-160H180v160Zm440 0h160v-160H620v160Z\"/>\n",
              "  </svg>\n",
              "    </button>\n",
              "\n",
              "  <style>\n",
              "    .colab-df-container {\n",
              "      display:flex;\n",
              "      gap: 12px;\n",
              "    }\n",
              "\n",
              "    .colab-df-convert {\n",
              "      background-color: #E8F0FE;\n",
              "      border: none;\n",
              "      border-radius: 50%;\n",
              "      cursor: pointer;\n",
              "      display: none;\n",
              "      fill: #1967D2;\n",
              "      height: 32px;\n",
              "      padding: 0 0 0 0;\n",
              "      width: 32px;\n",
              "    }\n",
              "\n",
              "    .colab-df-convert:hover {\n",
              "      background-color: #E2EBFA;\n",
              "      box-shadow: 0px 1px 2px rgba(60, 64, 67, 0.3), 0px 1px 3px 1px rgba(60, 64, 67, 0.15);\n",
              "      fill: #174EA6;\n",
              "    }\n",
              "\n",
              "    .colab-df-buttons div {\n",
              "      margin-bottom: 4px;\n",
              "    }\n",
              "\n",
              "    [theme=dark] .colab-df-convert {\n",
              "      background-color: #3B4455;\n",
              "      fill: #D2E3FC;\n",
              "    }\n",
              "\n",
              "    [theme=dark] .colab-df-convert:hover {\n",
              "      background-color: #434B5C;\n",
              "      box-shadow: 0px 1px 3px 1px rgba(0, 0, 0, 0.15);\n",
              "      filter: drop-shadow(0px 1px 2px rgba(0, 0, 0, 0.3));\n",
              "      fill: #FFFFFF;\n",
              "    }\n",
              "  </style>\n",
              "\n",
              "    <script>\n",
              "      const buttonEl =\n",
              "        document.querySelector('#df-6bb6f479-e27b-4a94-a143-9c3434acf567 button.colab-df-convert');\n",
              "      buttonEl.style.display =\n",
              "        google.colab.kernel.accessAllowed ? 'block' : 'none';\n",
              "\n",
              "      async function convertToInteractive(key) {\n",
              "        const element = document.querySelector('#df-6bb6f479-e27b-4a94-a143-9c3434acf567');\n",
              "        const dataTable =\n",
              "          await google.colab.kernel.invokeFunction('convertToInteractive',\n",
              "                                                    [key], {});\n",
              "        if (!dataTable) return;\n",
              "\n",
              "        const docLinkHtml = 'Like what you see? Visit the ' +\n",
              "          '<a target=\"_blank\" href=https://colab.research.google.com/notebooks/data_table.ipynb>data table notebook</a>'\n",
              "          + ' to learn more about interactive tables.';\n",
              "        element.innerHTML = '';\n",
              "        dataTable['output_type'] = 'display_data';\n",
              "        await google.colab.output.renderOutput(dataTable, element);\n",
              "        const docLink = document.createElement('div');\n",
              "        docLink.innerHTML = docLinkHtml;\n",
              "        element.appendChild(docLink);\n",
              "      }\n",
              "    </script>\n",
              "  </div>\n",
              "\n",
              "\n",
              "<div id=\"df-458aad62-22ba-48b2-a74f-cdc9d0e6d60d\">\n",
              "  <button class=\"colab-df-quickchart\" onclick=\"quickchart('df-458aad62-22ba-48b2-a74f-cdc9d0e6d60d')\"\n",
              "            title=\"Suggest charts\"\n",
              "            style=\"display:none;\">\n",
              "\n",
              "<svg xmlns=\"http://www.w3.org/2000/svg\" height=\"24px\"viewBox=\"0 0 24 24\"\n",
              "     width=\"24px\">\n",
              "    <g>\n",
              "        <path d=\"M19 3H5c-1.1 0-2 .9-2 2v14c0 1.1.9 2 2 2h14c1.1 0 2-.9 2-2V5c0-1.1-.9-2-2-2zM9 17H7v-7h2v7zm4 0h-2V7h2v10zm4 0h-2v-4h2v4z\"/>\n",
              "    </g>\n",
              "</svg>\n",
              "  </button>\n",
              "\n",
              "<style>\n",
              "  .colab-df-quickchart {\n",
              "      --bg-color: #E8F0FE;\n",
              "      --fill-color: #1967D2;\n",
              "      --hover-bg-color: #E2EBFA;\n",
              "      --hover-fill-color: #174EA6;\n",
              "      --disabled-fill-color: #AAA;\n",
              "      --disabled-bg-color: #DDD;\n",
              "  }\n",
              "\n",
              "  [theme=dark] .colab-df-quickchart {\n",
              "      --bg-color: #3B4455;\n",
              "      --fill-color: #D2E3FC;\n",
              "      --hover-bg-color: #434B5C;\n",
              "      --hover-fill-color: #FFFFFF;\n",
              "      --disabled-bg-color: #3B4455;\n",
              "      --disabled-fill-color: #666;\n",
              "  }\n",
              "\n",
              "  .colab-df-quickchart {\n",
              "    background-color: var(--bg-color);\n",
              "    border: none;\n",
              "    border-radius: 50%;\n",
              "    cursor: pointer;\n",
              "    display: none;\n",
              "    fill: var(--fill-color);\n",
              "    height: 32px;\n",
              "    padding: 0;\n",
              "    width: 32px;\n",
              "  }\n",
              "\n",
              "  .colab-df-quickchart:hover {\n",
              "    background-color: var(--hover-bg-color);\n",
              "    box-shadow: 0 1px 2px rgba(60, 64, 67, 0.3), 0 1px 3px 1px rgba(60, 64, 67, 0.15);\n",
              "    fill: var(--button-hover-fill-color);\n",
              "  }\n",
              "\n",
              "  .colab-df-quickchart-complete:disabled,\n",
              "  .colab-df-quickchart-complete:disabled:hover {\n",
              "    background-color: var(--disabled-bg-color);\n",
              "    fill: var(--disabled-fill-color);\n",
              "    box-shadow: none;\n",
              "  }\n",
              "\n",
              "  .colab-df-spinner {\n",
              "    border: 2px solid var(--fill-color);\n",
              "    border-color: transparent;\n",
              "    border-bottom-color: var(--fill-color);\n",
              "    animation:\n",
              "      spin 1s steps(1) infinite;\n",
              "  }\n",
              "\n",
              "  @keyframes spin {\n",
              "    0% {\n",
              "      border-color: transparent;\n",
              "      border-bottom-color: var(--fill-color);\n",
              "      border-left-color: var(--fill-color);\n",
              "    }\n",
              "    20% {\n",
              "      border-color: transparent;\n",
              "      border-left-color: var(--fill-color);\n",
              "      border-top-color: var(--fill-color);\n",
              "    }\n",
              "    30% {\n",
              "      border-color: transparent;\n",
              "      border-left-color: var(--fill-color);\n",
              "      border-top-color: var(--fill-color);\n",
              "      border-right-color: var(--fill-color);\n",
              "    }\n",
              "    40% {\n",
              "      border-color: transparent;\n",
              "      border-right-color: var(--fill-color);\n",
              "      border-top-color: var(--fill-color);\n",
              "    }\n",
              "    60% {\n",
              "      border-color: transparent;\n",
              "      border-right-color: var(--fill-color);\n",
              "    }\n",
              "    80% {\n",
              "      border-color: transparent;\n",
              "      border-right-color: var(--fill-color);\n",
              "      border-bottom-color: var(--fill-color);\n",
              "    }\n",
              "    90% {\n",
              "      border-color: transparent;\n",
              "      border-bottom-color: var(--fill-color);\n",
              "    }\n",
              "  }\n",
              "</style>\n",
              "\n",
              "  <script>\n",
              "    async function quickchart(key) {\n",
              "      const quickchartButtonEl =\n",
              "        document.querySelector('#' + key + ' button');\n",
              "      quickchartButtonEl.disabled = true;  // To prevent multiple clicks.\n",
              "      quickchartButtonEl.classList.add('colab-df-spinner');\n",
              "      try {\n",
              "        const charts = await google.colab.kernel.invokeFunction(\n",
              "            'suggestCharts', [key], {});\n",
              "      } catch (error) {\n",
              "        console.error('Error during call to suggestCharts:', error);\n",
              "      }\n",
              "      quickchartButtonEl.classList.remove('colab-df-spinner');\n",
              "      quickchartButtonEl.classList.add('colab-df-quickchart-complete');\n",
              "    }\n",
              "    (() => {\n",
              "      let quickchartButtonEl =\n",
              "        document.querySelector('#df-458aad62-22ba-48b2-a74f-cdc9d0e6d60d button');\n",
              "      quickchartButtonEl.style.display =\n",
              "        google.colab.kernel.accessAllowed ? 'block' : 'none';\n",
              "    })();\n",
              "  </script>\n",
              "</div>\n",
              "    </div>\n",
              "  </div>\n"
            ],
            "application/vnd.google.colaboratory.intrinsic+json": {
              "type": "dataframe",
              "summary": "{\n  \"name\": \"features\",\n  \"rows\": 4,\n  \"fields\": [\n    {\n      \"column\": \"feature\",\n      \"properties\": {\n        \"dtype\": \"string\",\n        \"num_unique_values\": 4,\n        \"samples\": [\n          \"atemp\",\n          \"temp\",\n          \"yr\"\n        ],\n        \"semantic_type\": \"\",\n        \"description\": \"\"\n      }\n    },\n    {\n      \"column\": \"weight\",\n      \"properties\": {\n        \"dtype\": \"number\",\n        \"std\": 275.3011881017515,\n        \"min\": 370.67985503003405,\n        \"max\": 1015.0602226430595,\n        \"num_unique_values\": 4,\n        \"samples\": [\n          581.396931065498,\n          370.67985503003405,\n          1015.0602226430595\n        ],\n        \"semantic_type\": \"\",\n        \"description\": \"\"\n      }\n    }\n  ]\n}"
            }
          },
          "metadata": {},
          "execution_count": 41
        }
      ]
    },
    {
      "cell_type": "markdown",
      "source": [
        "Лінійна залежність найбілше видна на графіках temp-cnt, atemp-cnt, можна стверджувати, що чим більша температура повітря,-тим більше людей захочуть орендувати велосипед."
      ],
      "metadata": {
        "id": "xbOfERjtili2"
      }
    },
    {
      "cell_type": "markdown",
      "source": [
        "Запитання 2"
      ],
      "metadata": {
        "id": "h3iwBv81jK50"
      }
    },
    {
      "cell_type": "markdown",
      "source": [
        "Виберіть 3 ознаки з найбільшими за модулем негативними коефіцієнтами (і випишіть їх), подивіться на відповідні візуалізації. Чи видно лінійну залежність, що зменшується? Чи логічно стверджувати, що чим більша величина цих ознак, тим менше людей захочуть взяти велосипеди?"
      ],
      "metadata": {
        "id": "A_RwGRB6jQ4R"
      }
    },
    {
      "cell_type": "markdown",
      "source": [
        "Відповідь:"
      ],
      "metadata": {
        "id": "6vb2IsA6jVZe"
      }
    },
    {
      "cell_type": "code",
      "source": [
        "features = pd.DataFrame({'feature':df.columns[:-1], 'weight': regressor.coef_})\n",
        "features.sort_values(by=['weight'], ascending=True)[:3]"
      ],
      "metadata": {
        "colab": {
          "base_uri": "https://localhost:8080/",
          "height": 143
        },
        "id": "ptRrOz8-jTU5",
        "outputId": "b410c37d-92be-4762-825c-44ac06765616"
      },
      "execution_count": 42,
      "outputs": [
        {
          "output_type": "execute_result",
          "data": {
            "text/plain": [
              "           feature      weight\n",
              "6       weathersit -330.559857\n",
              "10  windspeed(mph) -191.771408\n",
              "9              hum -140.007406"
            ],
            "text/html": [
              "\n",
              "  <div id=\"df-dc0ca1d9-1c27-4b95-abb6-dff1c48bfd6d\" class=\"colab-df-container\">\n",
              "    <div>\n",
              "<style scoped>\n",
              "    .dataframe tbody tr th:only-of-type {\n",
              "        vertical-align: middle;\n",
              "    }\n",
              "\n",
              "    .dataframe tbody tr th {\n",
              "        vertical-align: top;\n",
              "    }\n",
              "\n",
              "    .dataframe thead th {\n",
              "        text-align: right;\n",
              "    }\n",
              "</style>\n",
              "<table border=\"1\" class=\"dataframe\">\n",
              "  <thead>\n",
              "    <tr style=\"text-align: right;\">\n",
              "      <th></th>\n",
              "      <th>feature</th>\n",
              "      <th>weight</th>\n",
              "    </tr>\n",
              "  </thead>\n",
              "  <tbody>\n",
              "    <tr>\n",
              "      <th>6</th>\n",
              "      <td>weathersit</td>\n",
              "      <td>-330.559857</td>\n",
              "    </tr>\n",
              "    <tr>\n",
              "      <th>10</th>\n",
              "      <td>windspeed(mph)</td>\n",
              "      <td>-191.771408</td>\n",
              "    </tr>\n",
              "    <tr>\n",
              "      <th>9</th>\n",
              "      <td>hum</td>\n",
              "      <td>-140.007406</td>\n",
              "    </tr>\n",
              "  </tbody>\n",
              "</table>\n",
              "</div>\n",
              "    <div class=\"colab-df-buttons\">\n",
              "\n",
              "  <div class=\"colab-df-container\">\n",
              "    <button class=\"colab-df-convert\" onclick=\"convertToInteractive('df-dc0ca1d9-1c27-4b95-abb6-dff1c48bfd6d')\"\n",
              "            title=\"Convert this dataframe to an interactive table.\"\n",
              "            style=\"display:none;\">\n",
              "\n",
              "  <svg xmlns=\"http://www.w3.org/2000/svg\" height=\"24px\" viewBox=\"0 -960 960 960\">\n",
              "    <path d=\"M120-120v-720h720v720H120Zm60-500h600v-160H180v160Zm220 220h160v-160H400v160Zm0 220h160v-160H400v160ZM180-400h160v-160H180v160Zm440 0h160v-160H620v160ZM180-180h160v-160H180v160Zm440 0h160v-160H620v160Z\"/>\n",
              "  </svg>\n",
              "    </button>\n",
              "\n",
              "  <style>\n",
              "    .colab-df-container {\n",
              "      display:flex;\n",
              "      gap: 12px;\n",
              "    }\n",
              "\n",
              "    .colab-df-convert {\n",
              "      background-color: #E8F0FE;\n",
              "      border: none;\n",
              "      border-radius: 50%;\n",
              "      cursor: pointer;\n",
              "      display: none;\n",
              "      fill: #1967D2;\n",
              "      height: 32px;\n",
              "      padding: 0 0 0 0;\n",
              "      width: 32px;\n",
              "    }\n",
              "\n",
              "    .colab-df-convert:hover {\n",
              "      background-color: #E2EBFA;\n",
              "      box-shadow: 0px 1px 2px rgba(60, 64, 67, 0.3), 0px 1px 3px 1px rgba(60, 64, 67, 0.15);\n",
              "      fill: #174EA6;\n",
              "    }\n",
              "\n",
              "    .colab-df-buttons div {\n",
              "      margin-bottom: 4px;\n",
              "    }\n",
              "\n",
              "    [theme=dark] .colab-df-convert {\n",
              "      background-color: #3B4455;\n",
              "      fill: #D2E3FC;\n",
              "    }\n",
              "\n",
              "    [theme=dark] .colab-df-convert:hover {\n",
              "      background-color: #434B5C;\n",
              "      box-shadow: 0px 1px 3px 1px rgba(0, 0, 0, 0.15);\n",
              "      filter: drop-shadow(0px 1px 2px rgba(0, 0, 0, 0.3));\n",
              "      fill: #FFFFFF;\n",
              "    }\n",
              "  </style>\n",
              "\n",
              "    <script>\n",
              "      const buttonEl =\n",
              "        document.querySelector('#df-dc0ca1d9-1c27-4b95-abb6-dff1c48bfd6d button.colab-df-convert');\n",
              "      buttonEl.style.display =\n",
              "        google.colab.kernel.accessAllowed ? 'block' : 'none';\n",
              "\n",
              "      async function convertToInteractive(key) {\n",
              "        const element = document.querySelector('#df-dc0ca1d9-1c27-4b95-abb6-dff1c48bfd6d');\n",
              "        const dataTable =\n",
              "          await google.colab.kernel.invokeFunction('convertToInteractive',\n",
              "                                                    [key], {});\n",
              "        if (!dataTable) return;\n",
              "\n",
              "        const docLinkHtml = 'Like what you see? Visit the ' +\n",
              "          '<a target=\"_blank\" href=https://colab.research.google.com/notebooks/data_table.ipynb>data table notebook</a>'\n",
              "          + ' to learn more about interactive tables.';\n",
              "        element.innerHTML = '';\n",
              "        dataTable['output_type'] = 'display_data';\n",
              "        await google.colab.output.renderOutput(dataTable, element);\n",
              "        const docLink = document.createElement('div');\n",
              "        docLink.innerHTML = docLinkHtml;\n",
              "        element.appendChild(docLink);\n",
              "      }\n",
              "    </script>\n",
              "  </div>\n",
              "\n",
              "\n",
              "<div id=\"df-a19b8382-61af-4684-a41b-2d67f9fa0c5d\">\n",
              "  <button class=\"colab-df-quickchart\" onclick=\"quickchart('df-a19b8382-61af-4684-a41b-2d67f9fa0c5d')\"\n",
              "            title=\"Suggest charts\"\n",
              "            style=\"display:none;\">\n",
              "\n",
              "<svg xmlns=\"http://www.w3.org/2000/svg\" height=\"24px\"viewBox=\"0 0 24 24\"\n",
              "     width=\"24px\">\n",
              "    <g>\n",
              "        <path d=\"M19 3H5c-1.1 0-2 .9-2 2v14c0 1.1.9 2 2 2h14c1.1 0 2-.9 2-2V5c0-1.1-.9-2-2-2zM9 17H7v-7h2v7zm4 0h-2V7h2v10zm4 0h-2v-4h2v4z\"/>\n",
              "    </g>\n",
              "</svg>\n",
              "  </button>\n",
              "\n",
              "<style>\n",
              "  .colab-df-quickchart {\n",
              "      --bg-color: #E8F0FE;\n",
              "      --fill-color: #1967D2;\n",
              "      --hover-bg-color: #E2EBFA;\n",
              "      --hover-fill-color: #174EA6;\n",
              "      --disabled-fill-color: #AAA;\n",
              "      --disabled-bg-color: #DDD;\n",
              "  }\n",
              "\n",
              "  [theme=dark] .colab-df-quickchart {\n",
              "      --bg-color: #3B4455;\n",
              "      --fill-color: #D2E3FC;\n",
              "      --hover-bg-color: #434B5C;\n",
              "      --hover-fill-color: #FFFFFF;\n",
              "      --disabled-bg-color: #3B4455;\n",
              "      --disabled-fill-color: #666;\n",
              "  }\n",
              "\n",
              "  .colab-df-quickchart {\n",
              "    background-color: var(--bg-color);\n",
              "    border: none;\n",
              "    border-radius: 50%;\n",
              "    cursor: pointer;\n",
              "    display: none;\n",
              "    fill: var(--fill-color);\n",
              "    height: 32px;\n",
              "    padding: 0;\n",
              "    width: 32px;\n",
              "  }\n",
              "\n",
              "  .colab-df-quickchart:hover {\n",
              "    background-color: var(--hover-bg-color);\n",
              "    box-shadow: 0 1px 2px rgba(60, 64, 67, 0.3), 0 1px 3px 1px rgba(60, 64, 67, 0.15);\n",
              "    fill: var(--button-hover-fill-color);\n",
              "  }\n",
              "\n",
              "  .colab-df-quickchart-complete:disabled,\n",
              "  .colab-df-quickchart-complete:disabled:hover {\n",
              "    background-color: var(--disabled-bg-color);\n",
              "    fill: var(--disabled-fill-color);\n",
              "    box-shadow: none;\n",
              "  }\n",
              "\n",
              "  .colab-df-spinner {\n",
              "    border: 2px solid var(--fill-color);\n",
              "    border-color: transparent;\n",
              "    border-bottom-color: var(--fill-color);\n",
              "    animation:\n",
              "      spin 1s steps(1) infinite;\n",
              "  }\n",
              "\n",
              "  @keyframes spin {\n",
              "    0% {\n",
              "      border-color: transparent;\n",
              "      border-bottom-color: var(--fill-color);\n",
              "      border-left-color: var(--fill-color);\n",
              "    }\n",
              "    20% {\n",
              "      border-color: transparent;\n",
              "      border-left-color: var(--fill-color);\n",
              "      border-top-color: var(--fill-color);\n",
              "    }\n",
              "    30% {\n",
              "      border-color: transparent;\n",
              "      border-left-color: var(--fill-color);\n",
              "      border-top-color: var(--fill-color);\n",
              "      border-right-color: var(--fill-color);\n",
              "    }\n",
              "    40% {\n",
              "      border-color: transparent;\n",
              "      border-right-color: var(--fill-color);\n",
              "      border-top-color: var(--fill-color);\n",
              "    }\n",
              "    60% {\n",
              "      border-color: transparent;\n",
              "      border-right-color: var(--fill-color);\n",
              "    }\n",
              "    80% {\n",
              "      border-color: transparent;\n",
              "      border-right-color: var(--fill-color);\n",
              "      border-bottom-color: var(--fill-color);\n",
              "    }\n",
              "    90% {\n",
              "      border-color: transparent;\n",
              "      border-bottom-color: var(--fill-color);\n",
              "    }\n",
              "  }\n",
              "</style>\n",
              "\n",
              "  <script>\n",
              "    async function quickchart(key) {\n",
              "      const quickchartButtonEl =\n",
              "        document.querySelector('#' + key + ' button');\n",
              "      quickchartButtonEl.disabled = true;  // To prevent multiple clicks.\n",
              "      quickchartButtonEl.classList.add('colab-df-spinner');\n",
              "      try {\n",
              "        const charts = await google.colab.kernel.invokeFunction(\n",
              "            'suggestCharts', [key], {});\n",
              "      } catch (error) {\n",
              "        console.error('Error during call to suggestCharts:', error);\n",
              "      }\n",
              "      quickchartButtonEl.classList.remove('colab-df-spinner');\n",
              "      quickchartButtonEl.classList.add('colab-df-quickchart-complete');\n",
              "    }\n",
              "    (() => {\n",
              "      let quickchartButtonEl =\n",
              "        document.querySelector('#df-a19b8382-61af-4684-a41b-2d67f9fa0c5d button');\n",
              "      quickchartButtonEl.style.display =\n",
              "        google.colab.kernel.accessAllowed ? 'block' : 'none';\n",
              "    })();\n",
              "  </script>\n",
              "</div>\n",
              "    </div>\n",
              "  </div>\n"
            ],
            "application/vnd.google.colaboratory.intrinsic+json": {
              "type": "dataframe",
              "summary": "{\n  \"name\": \"features\",\n  \"rows\": 3,\n  \"fields\": [\n    {\n      \"column\": \"feature\",\n      \"properties\": {\n        \"dtype\": \"string\",\n        \"num_unique_values\": 3,\n        \"samples\": [\n          \"weathersit\",\n          \"windspeed(mph)\",\n          \"hum\"\n        ],\n        \"semantic_type\": \"\",\n        \"description\": \"\"\n      }\n    },\n    {\n      \"column\": \"weight\",\n      \"properties\": {\n        \"dtype\": \"number\",\n        \"std\": 98.53255134697406,\n        \"min\": -330.5598567399817,\n        \"max\": -140.00740550068844,\n        \"num_unique_values\": 3,\n        \"samples\": [\n          -330.5598567399817,\n          -191.77140847135036,\n          -140.00740550068844\n        ],\n        \"semantic_type\": \"\",\n        \"description\": \"\"\n      }\n    }\n  ]\n}"
            }
          },
          "metadata": {},
          "execution_count": 42
        }
      ]
    },
    {
      "cell_type": "markdown",
      "source": [
        "Лінійна залежність на цих графіках теж прослідковується, чим гірші погодні умови(прохолодно, вітер на вулиці) тим менше охочих взяти в оренду велосипед"
      ],
      "metadata": {
        "id": "fyagePwLkEac"
      }
    },
    {
      "cell_type": "markdown",
      "source": [
        "Запитання 3"
      ],
      "metadata": {
        "id": "oowSPqcDkn1J"
      }
    },
    {
      "cell_type": "markdown",
      "source": [
        "Випишіть ознаки з коефіцієнтами, близькими до нуля (< 1e-3). Як ви думаєте, чому модель виключила їх із моделі (знову подивіться на графіки)? Чи правда, що вони ніяк не впливають на попит на велосипеди?"
      ],
      "metadata": {
        "id": "8hq0LUTIkvOd"
      }
    },
    {
      "cell_type": "code",
      "source": [
        "pd.set_option('display.float_format', '{:,.15f}'.format)\n",
        "features[np.abs(features['weight']) < 1]"
      ],
      "metadata": {
        "colab": {
          "base_uri": "https://localhost:8080/",
          "height": 81
        },
        "id": "RZ1MH3sklYBJ",
        "outputId": "d84bf812-9cec-4d7b-d350-e0a553eeaf21"
      },
      "execution_count": 43,
      "outputs": [
        {
          "output_type": "execute_result",
          "data": {
            "text/plain": [
              "          feature             weight\n",
              "11  windspeed(ms) -0.000000026854702"
            ],
            "text/html": [
              "\n",
              "  <div id=\"df-6a8d5427-64ca-4d97-900a-fe6678232607\" class=\"colab-df-container\">\n",
              "    <div>\n",
              "<style scoped>\n",
              "    .dataframe tbody tr th:only-of-type {\n",
              "        vertical-align: middle;\n",
              "    }\n",
              "\n",
              "    .dataframe tbody tr th {\n",
              "        vertical-align: top;\n",
              "    }\n",
              "\n",
              "    .dataframe thead th {\n",
              "        text-align: right;\n",
              "    }\n",
              "</style>\n",
              "<table border=\"1\" class=\"dataframe\">\n",
              "  <thead>\n",
              "    <tr style=\"text-align: right;\">\n",
              "      <th></th>\n",
              "      <th>feature</th>\n",
              "      <th>weight</th>\n",
              "    </tr>\n",
              "  </thead>\n",
              "  <tbody>\n",
              "    <tr>\n",
              "      <th>11</th>\n",
              "      <td>windspeed(ms)</td>\n",
              "      <td>-0.000000026854702</td>\n",
              "    </tr>\n",
              "  </tbody>\n",
              "</table>\n",
              "</div>\n",
              "    <div class=\"colab-df-buttons\">\n",
              "\n",
              "  <div class=\"colab-df-container\">\n",
              "    <button class=\"colab-df-convert\" onclick=\"convertToInteractive('df-6a8d5427-64ca-4d97-900a-fe6678232607')\"\n",
              "            title=\"Convert this dataframe to an interactive table.\"\n",
              "            style=\"display:none;\">\n",
              "\n",
              "  <svg xmlns=\"http://www.w3.org/2000/svg\" height=\"24px\" viewBox=\"0 -960 960 960\">\n",
              "    <path d=\"M120-120v-720h720v720H120Zm60-500h600v-160H180v160Zm220 220h160v-160H400v160Zm0 220h160v-160H400v160ZM180-400h160v-160H180v160Zm440 0h160v-160H620v160ZM180-180h160v-160H180v160Zm440 0h160v-160H620v160Z\"/>\n",
              "  </svg>\n",
              "    </button>\n",
              "\n",
              "  <style>\n",
              "    .colab-df-container {\n",
              "      display:flex;\n",
              "      gap: 12px;\n",
              "    }\n",
              "\n",
              "    .colab-df-convert {\n",
              "      background-color: #E8F0FE;\n",
              "      border: none;\n",
              "      border-radius: 50%;\n",
              "      cursor: pointer;\n",
              "      display: none;\n",
              "      fill: #1967D2;\n",
              "      height: 32px;\n",
              "      padding: 0 0 0 0;\n",
              "      width: 32px;\n",
              "    }\n",
              "\n",
              "    .colab-df-convert:hover {\n",
              "      background-color: #E2EBFA;\n",
              "      box-shadow: 0px 1px 2px rgba(60, 64, 67, 0.3), 0px 1px 3px 1px rgba(60, 64, 67, 0.15);\n",
              "      fill: #174EA6;\n",
              "    }\n",
              "\n",
              "    .colab-df-buttons div {\n",
              "      margin-bottom: 4px;\n",
              "    }\n",
              "\n",
              "    [theme=dark] .colab-df-convert {\n",
              "      background-color: #3B4455;\n",
              "      fill: #D2E3FC;\n",
              "    }\n",
              "\n",
              "    [theme=dark] .colab-df-convert:hover {\n",
              "      background-color: #434B5C;\n",
              "      box-shadow: 0px 1px 3px 1px rgba(0, 0, 0, 0.15);\n",
              "      filter: drop-shadow(0px 1px 2px rgba(0, 0, 0, 0.3));\n",
              "      fill: #FFFFFF;\n",
              "    }\n",
              "  </style>\n",
              "\n",
              "    <script>\n",
              "      const buttonEl =\n",
              "        document.querySelector('#df-6a8d5427-64ca-4d97-900a-fe6678232607 button.colab-df-convert');\n",
              "      buttonEl.style.display =\n",
              "        google.colab.kernel.accessAllowed ? 'block' : 'none';\n",
              "\n",
              "      async function convertToInteractive(key) {\n",
              "        const element = document.querySelector('#df-6a8d5427-64ca-4d97-900a-fe6678232607');\n",
              "        const dataTable =\n",
              "          await google.colab.kernel.invokeFunction('convertToInteractive',\n",
              "                                                    [key], {});\n",
              "        if (!dataTable) return;\n",
              "\n",
              "        const docLinkHtml = 'Like what you see? Visit the ' +\n",
              "          '<a target=\"_blank\" href=https://colab.research.google.com/notebooks/data_table.ipynb>data table notebook</a>'\n",
              "          + ' to learn more about interactive tables.';\n",
              "        element.innerHTML = '';\n",
              "        dataTable['output_type'] = 'display_data';\n",
              "        await google.colab.output.renderOutput(dataTable, element);\n",
              "        const docLink = document.createElement('div');\n",
              "        docLink.innerHTML = docLinkHtml;\n",
              "        element.appendChild(docLink);\n",
              "      }\n",
              "    </script>\n",
              "  </div>\n",
              "\n",
              "    </div>\n",
              "  </div>\n"
            ],
            "application/vnd.google.colaboratory.intrinsic+json": {
              "type": "dataframe",
              "summary": "{\n  \"name\": \"features[np\",\n  \"rows\": 1,\n  \"fields\": [\n    {\n      \"column\": \"feature\",\n      \"properties\": {\n        \"dtype\": \"string\",\n        \"num_unique_values\": 1,\n        \"samples\": [\n          \"windspeed(ms)\"\n        ],\n        \"semantic_type\": \"\",\n        \"description\": \"\"\n      }\n    },\n    {\n      \"column\": \"weight\",\n      \"properties\": {\n        \"dtype\": \"number\",\n        \"std\": null,\n        \"min\": -2.6854702314758792e-08,\n        \"max\": -2.6854702314758792e-08,\n        \"num_unique_values\": 1,\n        \"samples\": [\n          -2.6854702314758792e-08\n        ],\n        \"semantic_type\": \"\",\n        \"description\": \"\"\n      }\n    }\n  ]\n}"
            }
          },
          "metadata": {},
          "execution_count": 43
        }
      ]
    },
    {
      "cell_type": "markdown",
      "source": [
        "windspeed(ms) та windspeed(mph) дублюють один одного і модель його виключає, тому що досить одного windspeed(mph) для знаходження залежності."
      ],
      "metadata": {
        "id": "jlcZNigkllqw"
      }
    },
    {
      "cell_type": "markdown",
      "source": [
        "# Висновок"
      ],
      "metadata": {
        "id": "gyEaUU4sltMB"
      }
    },
    {
      "cell_type": "markdown",
      "source": [
        "Отже, ми подивилися, як можна стежити за адекватністю лінійної моделі, як відбирати ознаки і як грамотно, за можливості не налаштовуючись на якусь конкретну порцію даних, підбирати коефіцієнт регуляризації.\n",
        "\n",
        "Варто зазначити, що за допомогою крос-валідації зручно підбирати лише невелику кількість параметрів. (1, 2, максимум 3), тому що для кожної допустимої їх комбінації нам доводиться декілька разів навчати модель. Такий процес займає багато часу, особливо якщо треба навчатися на великих обсягах даних."
      ],
      "metadata": {
        "id": "WFKZcfOflyQo"
      }
    }
  ]
}